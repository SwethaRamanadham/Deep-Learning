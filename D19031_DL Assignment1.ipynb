{
 "cells": [
  {
   "cell_type": "code",
   "execution_count": 51,
   "metadata": {},
   "outputs": [],
   "source": [
    "import os\n",
    "from pathlib import Path\n",
    "import torch\n",
    "from torch.utils.data import TensorDataset ,DataLoader\n",
    "from torch import nn,optim\n",
    "import torch.nn.functional as F\n",
    "import numpy as np\n",
    "import pandas as pd\n",
    "from sklearn.model_selection import train_test_split\n",
    "import torch\n",
    "from random import seed"
   ]
  },
  {
   "cell_type": "code",
   "execution_count": 52,
   "metadata": {},
   "outputs": [
    {
     "data": {
      "text/plain": [
       "(42000, 785)"
      ]
     },
     "execution_count": 52,
     "metadata": {},
     "output_type": "execute_result"
    }
   ],
   "source": [
    "os.chdir(\"C:\\\\Users\\\\R swetha\\\\Desktop\\\\DEEP LEARNING\")\n",
    "train_data=pd.read_csv(\"train.csv\") \n",
    "train_data.shape"
   ]
  },
  {
   "cell_type": "code",
   "execution_count": 53,
   "metadata": {},
   "outputs": [
    {
     "data": {
      "text/plain": [
       "((42000, 784), (42000,))"
      ]
     },
     "execution_count": 53,
     "metadata": {},
     "output_type": "execute_result"
    }
   ],
   "source": [
    "x=train_data.drop(\"label\",axis=1)\n",
    "y=np.array(train_data['label'])\n",
    "x.shape,y.shape"
   ]
  },
  {
   "cell_type": "code",
   "execution_count": 54,
   "metadata": {},
   "outputs": [
    {
     "data": {
      "text/plain": [
       "<torch._C.Generator at 0x1a633b45050>"
      ]
     },
     "execution_count": 54,
     "metadata": {},
     "output_type": "execute_result"
    }
   ],
   "source": [
    "import torch \n",
    "random_seed = 0\n",
    "torch.manual_seed(random_seed)"
   ]
  },
  {
   "cell_type": "code",
   "execution_count": 55,
   "metadata": {},
   "outputs": [
    {
     "name": "stdout",
     "output_type": "stream",
     "text": [
      "len of trainSet 33600 , len of testSet 8400\n"
     ]
    }
   ],
   "source": [
    "torch_X_train = torch.from_numpy(x.values).type(torch.FloatTensor)/255\n",
    "torch_y_train = torch.from_numpy(y).type(torch.LongTensor)\n",
    "myDataset = torch.utils.data.TensorDataset(torch_X_train,torch_y_train)\n",
    "valid_no  = int(0.2 * len(myDataset))\n",
    "# so divide the data into trainset and testset\n",
    "trainSet,testSet = torch.utils.data.random_split(myDataset,(len(myDataset)-valid_no,valid_no))\n",
    "print(f\"len of trainSet {len(trainSet)} , len of testSet {len(testSet)}\")\n",
    "batch_size=64\n",
    "train_loader  = DataLoader(trainSet , batch_size=batch_size ,shuffle=True) \n",
    "test_loader  = DataLoader(testSet , batch_size=batch_size ,shuffle=True)"
   ]
  },
  {
   "cell_type": "code",
   "execution_count": 6,
   "metadata": {},
   "outputs": [],
   "source": [
    "import random\n",
    "random.seed(0)"
   ]
  },
  {
   "cell_type": "markdown",
   "metadata": {},
   "source": [
    "### Model 1: 1 hidden layer"
   ]
  },
  {
   "cell_type": "code",
   "execution_count": 56,
   "metadata": {},
   "outputs": [
    {
     "name": "stdout",
     "output_type": "stream",
     "text": [
      "No of parameters 52320\n"
     ]
    }
   ],
   "source": [
    "class Network(nn.Module):\n",
    "    def __init__(self):\n",
    "        super().__init__()\n",
    "        self.fc1 = nn.Linear(784, 64)\n",
    "        self.fc2 = nn.Linear(64,32)\n",
    "\n",
    "    def forward(self, x):\n",
    "        # make sure input tensor is flattened\n",
    "        x = x.view(x.shape[0], -1)\n",
    "        x = F.relu(self.fc1(x))\n",
    "       \n",
    "        # output so no dropout here\n",
    "        x = F.log_softmax(self.fc2(x), dim=1)\n",
    "\n",
    "        return x\n",
    "        \n",
    "model=Network()\n",
    "print(\"No of parameters\",sum([p.numel() for p in model.parameters()]))"
   ]
  },
  {
   "cell_type": "markdown",
   "metadata": {},
   "source": [
    "#### Optimizer : Adam"
   ]
  },
  {
   "cell_type": "code",
   "execution_count": 7,
   "metadata": {},
   "outputs": [
    {
     "name": "stdout",
     "output_type": "stream",
     "text": [
      "Epoch: 1/10..  Training Loss: 0.407..  Test Loss: 0.338..  Test Accuracy: 0.908\n",
      "Epoch: 2/10..  Training Loss: 0.320..  Test Loss: 0.379..  Test Accuracy: 0.921\n",
      "Epoch: 3/10..  Training Loss: 0.298..  Test Loss: 0.347..  Test Accuracy: 0.921\n",
      "Epoch: 4/10..  Training Loss: 0.289..  Test Loss: 0.406..  Test Accuracy: 0.915\n",
      "Epoch: 5/10..  Training Loss: 0.295..  Test Loss: 0.397..  Test Accuracy: 0.914\n",
      "Epoch: 6/10..  Training Loss: 0.278..  Test Loss: 0.411..  Test Accuracy: 0.921\n",
      "Epoch: 7/10..  Training Loss: 0.287..  Test Loss: 0.408..  Test Accuracy: 0.925\n",
      "Epoch: 8/10..  Training Loss: 0.260..  Test Loss: 0.373..  Test Accuracy: 0.928\n",
      "Epoch: 9/10..  Training Loss: 0.253..  Test Loss: 0.473..  Test Accuracy: 0.915\n",
      "Epoch: 10/10..  Training Loss: 0.257..  Test Loss: 0.421..  Test Accuracy: 0.924\n"
     ]
    }
   ],
   "source": [
    "optimizer=optim.Adam(model.parameters(),lr=0.04)\n",
    "criterion=nn.NLLLoss()\n",
    "epochs=10\n",
    "train_losses,test_losses=[],[]\n",
    "for e in range(epochs):\n",
    "    running_loss=0\n",
    "    for images,labels in train_loader:\n",
    "        optimizer.zero_grad()\n",
    "        log_ps=model(images)\n",
    "        loss=criterion(log_ps,labels) # predicted,actual.Caluclating Train Loss\n",
    "        loss.backward() #backward propogation\n",
    "        optimizer.step() #optimize weights and bias\n",
    "        running_loss+=loss.item()\n",
    "        \n",
    "    else:\n",
    "        test_loss=0\n",
    "        accuracy=0\n",
    "        \n",
    "        with torch.no_grad():\n",
    "            model.eval()\n",
    "            for images,labels in test_loader:\n",
    "                log_ps=model(images)\n",
    "                test_loss+=criterion(log_ps,labels) #caluclating test loss\n",
    "                ps=torch.exp(log_ps) \n",
    "                top_p,top_class=ps.topk(1,dim=1)\n",
    "                equals=top_class==labels.view(*top_class.shape)\n",
    "                accuracy+=torch.mean(equals.type(torch.FloatTensor))\n",
    "        model.train()\n",
    "        train_losses.append(running_loss/len(train_loader))\n",
    "        test_losses.append(test_loss/len(test_loader))\n",
    "\n",
    "        print(\"Epoch: {}/{}.. \".format(e+1, epochs),\n",
    "              \"Training Loss: {:.3f}.. \".format(running_loss/len(train_loader)),\n",
    "              \"Test Loss: {:.3f}.. \".format(test_loss/len(test_loader)),\n",
    "              \"Test Accuracy: {:.3f}\".format(accuracy/len(test_loader)))    "
   ]
  },
  {
   "cell_type": "code",
   "execution_count": 15,
   "metadata": {},
   "outputs": [
    {
     "name": "stdout",
     "output_type": "stream",
     "text": [
      "Epoch: 1/10..  Training Loss: 1.017..  Test Loss: 1.060..  Test Accuracy: 0.696\n",
      "Epoch: 2/10..  Training Loss: 0.929..  Test Loss: 1.075..  Test Accuracy: 0.700\n",
      "Epoch: 3/10..  Training Loss: 0.935..  Test Loss: 1.002..  Test Accuracy: 0.704\n",
      "Epoch: 4/10..  Training Loss: 0.968..  Test Loss: 0.998..  Test Accuracy: 0.657\n",
      "Epoch: 5/10..  Training Loss: 0.954..  Test Loss: 1.056..  Test Accuracy: 0.641\n",
      "Epoch: 6/10..  Training Loss: 0.958..  Test Loss: 1.002..  Test Accuracy: 0.705\n",
      "Epoch: 7/10..  Training Loss: 1.052..  Test Loss: 1.267..  Test Accuracy: 0.602\n",
      "Epoch: 8/10..  Training Loss: 1.063..  Test Loss: 1.148..  Test Accuracy: 0.693\n",
      "Epoch: 9/10..  Training Loss: 0.984..  Test Loss: 1.261..  Test Accuracy: 0.652\n",
      "Epoch: 10/10..  Training Loss: 0.992..  Test Loss: 1.319..  Test Accuracy: 0.676\n"
     ]
    }
   ],
   "source": [
    "optimizer=optim.Adam(model.parameters(),lr=0.1)\n",
    "criterion=nn.NLLLoss()\n",
    "epochs=10\n",
    "train_losses,test_losses=[],[]\n",
    "for e in range(epochs):\n",
    "    running_loss=0\n",
    "    for images,labels in train_loader:\n",
    "        optimizer.zero_grad()\n",
    "        log_ps=model(images)\n",
    "        loss=criterion(log_ps,labels) # predicted,actual.Caluclating Train Loss\n",
    "        loss.backward() #backward propogation\n",
    "        optimizer.step() #optimize weights and bias\n",
    "        running_loss+=loss.item()\n",
    "        \n",
    "    else:\n",
    "        test_loss=0\n",
    "        accuracy=0\n",
    "        \n",
    "        with torch.no_grad():\n",
    "            model.eval()\n",
    "            for images,labels in test_loader:\n",
    "                log_ps=model(images)\n",
    "                test_loss+=criterion(log_ps,labels) #caluclating test loss\n",
    "                ps=torch.exp(log_ps) \n",
    "                top_p,top_class=ps.topk(1,dim=1)\n",
    "                equals=top_class==labels.view(*top_class.shape)\n",
    "                accuracy+=torch.mean(equals.type(torch.FloatTensor))\n",
    "        model.train()\n",
    "        train_losses.append(running_loss/len(train_loader))\n",
    "        test_losses.append(test_loss/len(test_loader))\n",
    "\n",
    "        print(\"Epoch: {}/{}.. \".format(e+1, epochs),\n",
    "              \"Training Loss: {:.3f}.. \".format(running_loss/len(train_loader)),\n",
    "              \"Test Loss: {:.3f}.. \".format(test_loss/len(test_loader)),\n",
    "              \"Test Accuracy: {:.3f}\".format(accuracy/len(test_loader)))    "
   ]
  },
  {
   "cell_type": "code",
   "execution_count": 16,
   "metadata": {},
   "outputs": [
    {
     "name": "stdout",
     "output_type": "stream",
     "text": [
      "Epoch: 1/10..  Training Loss: 0.943..  Test Loss: 1.406..  Test Accuracy: 0.661\n",
      "Epoch: 2/10..  Training Loss: 0.847..  Test Loss: 1.068..  Test Accuracy: 0.708\n",
      "Epoch: 3/10..  Training Loss: 0.826..  Test Loss: 1.099..  Test Accuracy: 0.723\n",
      "Epoch: 4/10..  Training Loss: 0.790..  Test Loss: 1.031..  Test Accuracy: 0.715\n",
      "Epoch: 5/10..  Training Loss: 0.820..  Test Loss: 1.102..  Test Accuracy: 0.685\n",
      "Epoch: 6/10..  Training Loss: 0.805..  Test Loss: 1.034..  Test Accuracy: 0.715\n",
      "Epoch: 7/10..  Training Loss: 0.766..  Test Loss: 1.150..  Test Accuracy: 0.736\n",
      "Epoch: 8/10..  Training Loss: 0.788..  Test Loss: 1.057..  Test Accuracy: 0.726\n",
      "Epoch: 9/10..  Training Loss: 0.787..  Test Loss: 1.034..  Test Accuracy: 0.724\n",
      "Epoch: 10/10..  Training Loss: 0.759..  Test Loss: 1.100..  Test Accuracy: 0.730\n"
     ]
    }
   ],
   "source": [
    "optimizer=optim.Adam(model.parameters(),lr=0.06)\n",
    "criterion=nn.NLLLoss()\n",
    "epochs=10\n",
    "train_losses,test_losses=[],[]\n",
    "for e in range(epochs):\n",
    "    running_loss=0\n",
    "    for images,labels in train_loader:\n",
    "        optimizer.zero_grad()\n",
    "        log_ps=model(images)\n",
    "        loss=criterion(log_ps,labels) # predicted,actual.Caluclating Train Loss\n",
    "        loss.backward() #backward propogation\n",
    "        optimizer.step() #optimize weights and bias\n",
    "        running_loss+=loss.item()\n",
    "        \n",
    "    else:\n",
    "        test_loss=0\n",
    "        accuracy=0\n",
    "        \n",
    "        with torch.no_grad():\n",
    "            model.eval()\n",
    "            for images,labels in test_loader:\n",
    "                log_ps=model(images)\n",
    "                test_loss+=criterion(log_ps,labels) #caluclating test loss\n",
    "                ps=torch.exp(log_ps) \n",
    "                top_p,top_class=ps.topk(1,dim=1)\n",
    "                equals=top_class==labels.view(*top_class.shape)\n",
    "                accuracy+=torch.mean(equals.type(torch.FloatTensor))\n",
    "        model.train()\n",
    "        train_losses.append(running_loss/len(train_loader))\n",
    "        test_losses.append(test_loss/len(test_loader))\n",
    "\n",
    "        print(\"Epoch: {}/{}.. \".format(e+1, epochs),\n",
    "              \"Training Loss: {:.3f}.. \".format(running_loss/len(train_loader)),\n",
    "              \"Test Loss: {:.3f}.. \".format(test_loss/len(test_loader)),\n",
    "              \"Test Accuracy: {:.3f}\".format(accuracy/len(test_loader)))    "
   ]
  },
  {
   "cell_type": "markdown",
   "metadata": {},
   "source": [
    "OBservation : lr =0.04 gave the best accuracy"
   ]
  },
  {
   "cell_type": "markdown",
   "metadata": {},
   "source": [
    "#### SGD with lr and momentum with different learning rates"
   ]
  },
  {
   "cell_type": "code",
   "execution_count": 8,
   "metadata": {},
   "outputs": [
    {
     "name": "stdout",
     "output_type": "stream",
     "text": [
      "Epoch: 1/10..  Training Loss: 0.435..  Test Loss: 0.237..  Test Accuracy: 0.927\n",
      "Epoch: 2/10..  Training Loss: 0.178..  Test Loss: 0.173..  Test Accuracy: 0.950\n",
      "Epoch: 3/10..  Training Loss: 0.128..  Test Loss: 0.146..  Test Accuracy: 0.956\n",
      "Epoch: 4/10..  Training Loss: 0.101..  Test Loss: 0.136..  Test Accuracy: 0.960\n",
      "Epoch: 5/10..  Training Loss: 0.088..  Test Loss: 0.146..  Test Accuracy: 0.957\n",
      "Epoch: 6/10..  Training Loss: 0.071..  Test Loss: 0.156..  Test Accuracy: 0.955\n",
      "Epoch: 7/10..  Training Loss: 0.063..  Test Loss: 0.140..  Test Accuracy: 0.961\n",
      "Epoch: 8/10..  Training Loss: 0.052..  Test Loss: 0.126..  Test Accuracy: 0.964\n",
      "Epoch: 9/10..  Training Loss: 0.045..  Test Loss: 0.122..  Test Accuracy: 0.963\n",
      "Epoch: 10/10..  Training Loss: 0.041..  Test Loss: 0.143..  Test Accuracy: 0.962\n"
     ]
    },
    {
     "data": {
      "text/plain": [
       "<matplotlib.legend.Legend at 0x1a63be1d588>"
      ]
     },
     "execution_count": 8,
     "metadata": {},
     "output_type": "execute_result"
    },
    {
     "data": {
      "image/png": "[encoded data removed]",
      "text/plain": [
       "<Figure size 432x288 with 1 Axes>"
      ]
     },
     "metadata": {
      "needs_background": "light"
     },
     "output_type": "display_data"
    }
   ],
   "source": [
    "optimizer = optim.SGD(model.parameters(), lr=0.04, momentum=0.9)\n",
    "criterion=nn.NLLLoss()\n",
    "epochs=10\n",
    "train_losses,test_losses=[],[]\n",
    "for e in range(epochs):\n",
    "    running_loss=0\n",
    "    for images,labels in train_loader:\n",
    "        optimizer.zero_grad()\n",
    "        log_ps=model(images)\n",
    "        loss=criterion(log_ps,labels) # predicted,actual.Caluclating Train Loss\n",
    "        loss.backward() #backward propogation\n",
    "        optimizer.step() #optimize weights and bias\n",
    "        running_loss+=loss.item()\n",
    "        \n",
    "    else:\n",
    "        test_loss=0\n",
    "        accuracy=0\n",
    "        \n",
    "        with torch.no_grad():\n",
    "            model.eval()\n",
    "            for images,labels in test_loader:\n",
    "                log_ps=model(images)\n",
    "                test_loss+=criterion(log_ps,labels) #caluclating test loss\n",
    "                ps=torch.exp(log_ps) \n",
    "                top_p,top_class=ps.topk(1,dim=1)\n",
    "                equals=top_class==labels.view(*top_class.shape)\n",
    "                accuracy+=torch.mean(equals.type(torch.FloatTensor))\n",
    "        model.train()\n",
    "        train_losses.append(running_loss/len(train_loader))\n",
    "        test_losses.append(test_loss/len(test_loader))\n",
    "\n",
    "        print(\"Epoch: {}/{}.. \".format(e+1, epochs),\n",
    "              \"Training Loss: {:.3f}.. \".format(running_loss/len(train_loader)),\n",
    "              \"Test Loss: {:.3f}.. \".format(test_loss/len(test_loader)),\n",
    "              \"Test Accuracy: {:.3f}\".format(accuracy/len(test_loader)))   \n",
    "import matplotlib.pyplot as plt\n",
    "%matplotlib inline\n",
    "plt.plot(train_losses, label='Training loss')\n",
    "plt.plot(test_losses, label='Validation loss')\n",
    "plt.legend(frameon=False)"
   ]
  },
  {
   "cell_type": "code",
   "execution_count": 11,
   "metadata": {},
   "outputs": [
    {
     "name": "stdout",
     "output_type": "stream",
     "text": [
      "Epoch: 1/10..  Training Loss: 0.375..  Test Loss: 0.203..  Test Accuracy: 0.939\n",
      "Epoch: 2/10..  Training Loss: 0.158..  Test Loss: 0.183..  Test Accuracy: 0.946\n",
      "Epoch: 3/10..  Training Loss: 0.125..  Test Loss: 0.148..  Test Accuracy: 0.956\n",
      "Epoch: 4/10..  Training Loss: 0.103..  Test Loss: 0.153..  Test Accuracy: 0.957\n",
      "Epoch: 5/10..  Training Loss: 0.093..  Test Loss: 0.156..  Test Accuracy: 0.958\n",
      "Epoch: 6/10..  Training Loss: 0.081..  Test Loss: 0.175..  Test Accuracy: 0.955\n",
      "Epoch: 7/10..  Training Loss: 0.069..  Test Loss: 0.172..  Test Accuracy: 0.961\n",
      "Epoch: 8/10..  Training Loss: 0.058..  Test Loss: 0.161..  Test Accuracy: 0.962\n",
      "Epoch: 9/10..  Training Loss: 0.056..  Test Loss: 0.175..  Test Accuracy: 0.964\n",
      "Epoch: 10/10..  Training Loss: 0.053..  Test Loss: 0.185..  Test Accuracy: 0.960\n"
     ]
    }
   ],
   "source": [
    "optimizer = optim.SGD(model.parameters(), lr=1e-1, momentum=0.9)\n",
    "criterion=nn.NLLLoss()\n",
    "epochs=10\n",
    "train_losses,test_losses=[],[]\n",
    "for e in range(epochs):\n",
    "    running_loss=0\n",
    "    for images,labels in train_loader:\n",
    "        optimizer.zero_grad()\n",
    "        log_ps=model(images)\n",
    "        loss=criterion(log_ps,labels) # predicted,actual.Caluclating Train Loss\n",
    "        loss.backward() #backward propogation\n",
    "        optimizer.step() #optimize weights and bias\n",
    "        running_loss+=loss.item()\n",
    "        \n",
    "    else:\n",
    "        test_loss=0\n",
    "        accuracy=0\n",
    "        \n",
    "        with torch.no_grad():\n",
    "            model.eval()\n",
    "            for images,labels in test_loader:\n",
    "                log_ps=model(images)\n",
    "                test_loss+=criterion(log_ps,labels) #caluclating test loss\n",
    "                ps=torch.exp(log_ps) \n",
    "                top_p,top_class=ps.topk(1,dim=1)\n",
    "                equals=top_class==labels.view(*top_class.shape)\n",
    "                accuracy+=torch.mean(equals.type(torch.FloatTensor))\n",
    "        model.train()\n",
    "        train_losses.append(running_loss/len(train_loader))\n",
    "        test_losses.append(test_loss/len(test_loader))\n",
    "\n",
    "        print(\"Epoch: {}/{}.. \".format(e+1, epochs),\n",
    "              \"Training Loss: {:.3f}.. \".format(running_loss/len(train_loader)),\n",
    "              \"Test Loss: {:.3f}.. \".format(test_loss/len(test_loader)),\n",
    "              \"Test Accuracy: {:.3f}\".format(accuracy/len(test_loader)))   "
   ]
  },
  {
   "cell_type": "code",
   "execution_count": 57,
   "metadata": {},
   "outputs": [
    {
     "name": "stdout",
     "output_type": "stream",
     "text": [
      "Epoch: 1/10..  Training Loss: 0.822..  Test Loss: 0.395..  Test Accuracy: 0.889\n",
      "Epoch: 2/10..  Training Loss: 0.346..  Test Loss: 0.326..  Test Accuracy: 0.910\n",
      "Epoch: 3/10..  Training Loss: 0.300..  Test Loss: 0.295..  Test Accuracy: 0.918\n",
      "Epoch: 4/10..  Training Loss: 0.271..  Test Loss: 0.270..  Test Accuracy: 0.924\n",
      "Epoch: 5/10..  Training Loss: 0.247..  Test Loss: 0.255..  Test Accuracy: 0.925\n",
      "Epoch: 6/10..  Training Loss: 0.227..  Test Loss: 0.254..  Test Accuracy: 0.926\n",
      "Epoch: 7/10..  Training Loss: 0.209..  Test Loss: 0.228..  Test Accuracy: 0.936\n",
      "Epoch: 8/10..  Training Loss: 0.195..  Test Loss: 0.220..  Test Accuracy: 0.936\n",
      "Epoch: 9/10..  Training Loss: 0.181..  Test Loss: 0.206..  Test Accuracy: 0.941\n",
      "Epoch: 10/10..  Training Loss: 0.169..  Test Loss: 0.201..  Test Accuracy: 0.941\n"
     ]
    },
    {
     "data": {
      "text/plain": [
       "<matplotlib.legend.Legend at 0x1a60127e9b0>"
      ]
     },
     "execution_count": 57,
     "metadata": {},
     "output_type": "execute_result"
    },
    {
     "data": {
      "image/png": "[encoded data removed]",
      "text/plain": [
       "<Figure size 432x288 with 1 Axes>"
      ]
     },
     "metadata": {
      "needs_background": "light"
     },
     "output_type": "display_data"
    }
   ],
   "source": [
    "optimizer = optim.SGD(model.parameters(), lr=0.04, momentum=0.2)\n",
    "criterion=nn.NLLLoss()\n",
    "epochs=10\n",
    "train_losses,test_losses=[],[]\n",
    "for e in range(epochs):\n",
    "    running_loss=0\n",
    "    for images,labels in train_loader:\n",
    "        optimizer.zero_grad()\n",
    "        log_ps=model(images)\n",
    "        loss=criterion(log_ps,labels) # predicted,actual.Caluclating Train Loss\n",
    "        loss.backward() #backward propogation\n",
    "        optimizer.step() #optimize weights and bias\n",
    "        running_loss+=loss.item()\n",
    "        \n",
    "    else:\n",
    "        test_loss=0\n",
    "        accuracy=0\n",
    "        \n",
    "        with torch.no_grad():\n",
    "            model.eval()\n",
    "            for images,labels in test_loader:\n",
    "                log_ps=model(images)\n",
    "                test_loss+=criterion(log_ps,labels) #caluclating test loss\n",
    "                ps=torch.exp(log_ps) \n",
    "                top_p,top_class=ps.topk(1,dim=1)\n",
    "                equals=top_class==labels.view(*top_class.shape)\n",
    "                accuracy+=torch.mean(equals.type(torch.FloatTensor))\n",
    "        model.train()\n",
    "        train_losses.append(running_loss/len(train_loader))\n",
    "        test_losses.append(test_loss/len(test_loader))\n",
    "\n",
    "        print(\"Epoch: {}/{}.. \".format(e+1, epochs),\n",
    "              \"Training Loss: {:.3f}.. \".format(running_loss/len(train_loader)),\n",
    "              \"Test Loss: {:.3f}.. \".format(test_loss/len(test_loader)),\n",
    "              \"Test Accuracy: {:.3f}\".format(accuracy/len(test_loader)))   \n",
    "import matplotlib.pyplot as plt\n",
    "%matplotlib inline\n",
    "plt.plot(train_losses, label='Training loss')\n",
    "plt.plot(test_losses, label='Validation loss')\n",
    "plt.legend(frameon=False)"
   ]
  },
  {
   "cell_type": "markdown",
   "metadata": {},
   "source": [
    "##### Observation : momentum = 0.9 gave best accuracy"
   ]
  },
  {
   "cell_type": "code",
   "execution_count": 9,
   "metadata": {},
   "outputs": [
    {
     "name": "stdout",
     "output_type": "stream",
     "text": [
      "Epoch: 1/5..  Training Loss: 0.666..  Test Loss: 0.342..  Test Accuracy: 0.900\n",
      "Epoch: 2/5..  Training Loss: 0.297..  Test Loss: 0.282..  Test Accuracy: 0.923\n",
      "Epoch: 3/5..  Training Loss: 0.248..  Test Loss: 0.247..  Test Accuracy: 0.927\n",
      "Epoch: 4/5..  Training Loss: 0.210..  Test Loss: 0.219..  Test Accuracy: 0.937\n",
      "Epoch: 5/5..  Training Loss: 0.183..  Test Loss: 0.204..  Test Accuracy: 0.941\n"
     ]
    }
   ],
   "source": [
    "optimizer = optim.SGD(model.parameters(), lr=1e-2, momentum=0.9)\n",
    "criterion=nn.NLLLoss()\n",
    "epochs=5\n",
    "train_losses,test_losses=[],[]\n",
    "for e in range(epochs):\n",
    "    running_loss=0\n",
    "    for images,labels in train_loader:\n",
    "        optimizer.zero_grad()\n",
    "        log_ps=model(images)\n",
    "        loss=criterion(log_ps,labels) # predicted,actual.Caluclating Train Loss\n",
    "        loss.backward() #backward propogation\n",
    "        optimizer.step() #optimize weights and bias\n",
    "        running_loss+=loss.item()\n",
    "        \n",
    "    else:\n",
    "        test_loss=0\n",
    "        accuracy=0\n",
    "        \n",
    "        with torch.no_grad():\n",
    "            model.eval()\n",
    "            for images,labels in test_loader:\n",
    "                log_ps=model(images)\n",
    "                test_loss+=criterion(log_ps,labels) #caluclating test loss\n",
    "                ps=torch.exp(log_ps) \n",
    "                top_p,top_class=ps.topk(1,dim=1)\n",
    "                equals=top_class==labels.view(*top_class.shape)\n",
    "                accuracy+=torch.mean(equals.type(torch.FloatTensor))\n",
    "        model.train()\n",
    "        train_losses.append(running_loss/len(train_loader))\n",
    "        test_losses.append(test_loss/len(test_loader))\n",
    "\n",
    "        print(\"Epoch: {}/{}.. \".format(e+1, epochs),\n",
    "              \"Training Loss: {:.3f}.. \".format(running_loss/len(train_loader)),\n",
    "              \"Test Loss: {:.3f}.. \".format(test_loss/len(test_loader)),\n",
    "              \"Test Accuracy: {:.3f}\".format(accuracy/len(test_loader)))   "
   ]
  },
  {
   "cell_type": "code",
   "execution_count": 7,
   "metadata": {},
   "outputs": [
    {
     "name": "stdout",
     "output_type": "stream",
     "text": [
      "Epoch: 1/10..  Training Loss: 0.666..  Test Loss: 0.342..  Test Accuracy: 0.900\n",
      "Epoch: 2/10..  Training Loss: 0.297..  Test Loss: 0.282..  Test Accuracy: 0.923\n",
      "Epoch: 3/10..  Training Loss: 0.248..  Test Loss: 0.247..  Test Accuracy: 0.927\n",
      "Epoch: 4/10..  Training Loss: 0.210..  Test Loss: 0.219..  Test Accuracy: 0.937\n",
      "Epoch: 5/10..  Training Loss: 0.183..  Test Loss: 0.204..  Test Accuracy: 0.941\n",
      "Epoch: 6/10..  Training Loss: 0.161..  Test Loss: 0.200..  Test Accuracy: 0.941\n",
      "Epoch: 7/10..  Training Loss: 0.143..  Test Loss: 0.174..  Test Accuracy: 0.950\n",
      "Epoch: 8/10..  Training Loss: 0.129..  Test Loss: 0.161..  Test Accuracy: 0.953\n",
      "Epoch: 9/10..  Training Loss: 0.117..  Test Loss: 0.157..  Test Accuracy: 0.955\n",
      "Epoch: 10/10..  Training Loss: 0.108..  Test Loss: 0.158..  Test Accuracy: 0.951\n"
     ]
    }
   ],
   "source": [
    "optimizer = optim.SGD(model.parameters(), lr=1e-2, momentum=0.9)\n",
    "criterion=nn.NLLLoss()\n",
    "epochs=10\n",
    "train_losses,test_losses=[],[]\n",
    "for e in range(epochs):\n",
    "    running_loss=0\n",
    "    for images,labels in train_loader:\n",
    "        optimizer.zero_grad()\n",
    "        log_ps=model(images)\n",
    "        loss=criterion(log_ps,labels) # predicted,actual.Caluclating Train Loss\n",
    "        loss.backward() #backward propogation\n",
    "        optimizer.step() #optimize weights and bias\n",
    "        running_loss+=loss.item()\n",
    "        \n",
    "    else:\n",
    "        test_loss=0\n",
    "        accuracy=0\n",
    "        \n",
    "        with torch.no_grad():\n",
    "            model.eval()\n",
    "            for images,labels in test_loader:\n",
    "                log_ps=model(images)\n",
    "                test_loss+=criterion(log_ps,labels) #caluclating test loss\n",
    "                ps=torch.exp(log_ps) \n",
    "                top_p,top_class=ps.topk(1,dim=1)\n",
    "                equals=top_class==labels.view(*top_class.shape)\n",
    "                accuracy+=torch.mean(equals.type(torch.FloatTensor))\n",
    "        model.train()\n",
    "        train_losses.append(running_loss/len(train_loader))\n",
    "        test_losses.append(test_loss/len(test_loader))\n",
    "\n",
    "        print(\"Epoch: {}/{}.. \".format(e+1, epochs),\n",
    "              \"Training Loss: {:.3f}.. \".format(running_loss/len(train_loader)),\n",
    "              \"Test Loss: {:.3f}.. \".format(test_loss/len(test_loader)),\n",
    "              \"Test Accuracy: {:.3f}\".format(accuracy/len(test_loader)))   "
   ]
  },
  {
   "cell_type": "code",
   "execution_count": 7,
   "metadata": {},
   "outputs": [
    {
     "name": "stdout",
     "output_type": "stream",
     "text": [
      "Epoch: 1/10..  Training Loss: 1.484..  Test Loss: 0.673..  Test Accuracy: 0.843\n",
      "Epoch: 2/10..  Training Loss: 0.526..  Test Loss: 0.446..  Test Accuracy: 0.881\n",
      "Epoch: 3/10..  Training Loss: 0.405..  Test Loss: 0.382..  Test Accuracy: 0.895\n",
      "Epoch: 4/10..  Training Loss: 0.361..  Test Loss: 0.351..  Test Accuracy: 0.903\n",
      "Epoch: 5/10..  Training Loss: 0.336..  Test Loss: 0.334..  Test Accuracy: 0.904\n",
      "Epoch: 6/10..  Training Loss: 0.318..  Test Loss: 0.325..  Test Accuracy: 0.906\n",
      "Epoch: 7/10..  Training Loss: 0.304..  Test Loss: 0.309..  Test Accuracy: 0.912\n",
      "Epoch: 8/10..  Training Loss: 0.293..  Test Loss: 0.303..  Test Accuracy: 0.915\n",
      "Epoch: 9/10..  Training Loss: 0.283..  Test Loss: 0.293..  Test Accuracy: 0.915\n",
      "Epoch: 10/10..  Training Loss: 0.274..  Test Loss: 0.289..  Test Accuracy: 0.917\n"
     ]
    }
   ],
   "source": [
    "optimizer = optim.SGD(model.parameters(), lr=1e-2, momentum=0.4, nesterov=True)\n",
    "criterion=nn.NLLLoss()\n",
    "epochs=10\n",
    "train_losses,test_losses=[],[]\n",
    "for e in range(epochs):\n",
    "    running_loss=0\n",
    "    for images,labels in train_loader:\n",
    "        optimizer.zero_grad()\n",
    "        log_ps=model(images)\n",
    "        loss=criterion(log_ps,labels) # predicted,actual.Caluclating Train Loss\n",
    "        loss.backward() #backward propogation\n",
    "        optimizer.step() #optimize weights and bias\n",
    "        running_loss+=loss.item()\n",
    "        \n",
    "    else:\n",
    "        test_loss=0\n",
    "        accuracy=0\n",
    "        \n",
    "        with torch.no_grad():\n",
    "            model.eval()\n",
    "            for images,labels in test_loader:\n",
    "                log_ps=model(images)\n",
    "                test_loss+=criterion(log_ps,labels) #caluclating test loss\n",
    "                ps=torch.exp(log_ps) \n",
    "                top_p,top_class=ps.topk(1,dim=1)\n",
    "                equals=top_class==labels.view(*top_class.shape)\n",
    "                accuracy+=torch.mean(equals.type(torch.FloatTensor))\n",
    "        model.train()\n",
    "        train_losses.append(running_loss/len(train_loader))\n",
    "        test_losses.append(test_loss/len(test_loader))\n",
    "\n",
    "        print(\"Epoch: {}/{}.. \".format(e+1, epochs),\n",
    "              \"Training Loss: {:.3f}.. \".format(running_loss/len(train_loader)),\n",
    "              \"Test Loss: {:.3f}.. \".format(test_loss/len(test_loader)),\n",
    "              \"Test Accuracy: {:.3f}\".format(accuracy/len(test_loader)))   "
   ]
  },
  {
   "cell_type": "markdown",
   "metadata": {},
   "source": [
    "Best Accuracy : 96.2,\n",
    "No of parameters 52320"
   ]
  },
  {
   "cell_type": "markdown",
   "metadata": {},
   "source": [
    "### Model 2"
   ]
  },
  {
   "cell_type": "code",
   "execution_count": 17,
   "metadata": {},
   "outputs": [
    {
     "name": "stdout",
     "output_type": "stream",
     "text": [
      "No of parameters 9550\n"
     ]
    }
   ],
   "source": [
    "class Network(nn.Module):\n",
    "    def __init__(self):\n",
    "        super().__init__()\n",
    "        self.fc1 = nn.Linear(784,12)\n",
    "        self.fc2 = nn.Linear(12,10)\n",
    "\n",
    "    def forward(self, x):\n",
    "        # make sure input tensor is flattened\n",
    "        x = x.view(x.shape[0], -1)\n",
    "        \n",
    "        x = F.relu(self.fc1(x))\n",
    "       \n",
    "    \n",
    "\n",
    "        # output so no dropout here\n",
    "        x = F.log_softmax(self.fc2(x), dim=1)\n",
    "\n",
    "        return x\n",
    "        \n",
    "model=Network()\n",
    "print(\"No of parameters\",sum([p.numel() for p in model.parameters()]))\n"
   ]
  },
  {
   "cell_type": "markdown",
   "metadata": {},
   "source": [
    "#### ADAM"
   ]
  },
  {
   "cell_type": "code",
   "execution_count": 7,
   "metadata": {},
   "outputs": [
    {
     "name": "stdout",
     "output_type": "stream",
     "text": [
      "Epoch: 1/10..  Training Loss: 0.543..  Test Loss: 0.413..  Test Accuracy: 0.891\n",
      "Epoch: 2/10..  Training Loss: 0.407..  Test Loss: 0.491..  Test Accuracy: 0.875\n",
      "Epoch: 3/10..  Training Loss: 0.404..  Test Loss: 0.395..  Test Accuracy: 0.889\n",
      "Epoch: 4/10..  Training Loss: 0.384..  Test Loss: 0.474..  Test Accuracy: 0.880\n",
      "Epoch: 5/10..  Training Loss: 0.400..  Test Loss: 0.420..  Test Accuracy: 0.883\n",
      "Epoch: 6/10..  Training Loss: 0.374..  Test Loss: 0.542..  Test Accuracy: 0.865\n",
      "Epoch: 7/10..  Training Loss: 0.378..  Test Loss: 0.500..  Test Accuracy: 0.879\n",
      "Epoch: 8/10..  Training Loss: 0.365..  Test Loss: 0.415..  Test Accuracy: 0.893\n",
      "Epoch: 9/10..  Training Loss: 0.364..  Test Loss: 0.463..  Test Accuracy: 0.884\n",
      "Epoch: 10/10..  Training Loss: 0.363..  Test Loss: 0.438..  Test Accuracy: 0.890\n"
     ]
    }
   ],
   "source": [
    "optimizer=optim.Adam(model.parameters(),lr=0.04)\n",
    "criterion=nn.NLLLoss()\n",
    "epochs=10\n",
    "train_losses,test_losses=[],[]\n",
    "for e in range(epochs):\n",
    "    running_loss=0\n",
    "    for images,labels in train_loader:\n",
    "        optimizer.zero_grad()\n",
    "        log_ps=model(images)\n",
    "        loss=criterion(log_ps,labels) # predicted,actual.Caluclating Train Loss\n",
    "        loss.backward() #backward propogation\n",
    "        optimizer.step() #optimize weights and bias\n",
    "        running_loss+=loss.item()\n",
    "        \n",
    "    else:\n",
    "        test_loss=0\n",
    "        accuracy=0\n",
    "        \n",
    "        with torch.no_grad():\n",
    "            model.eval()\n",
    "            for images,labels in test_loader:\n",
    "                log_ps=model(images)\n",
    "                test_loss+=criterion(log_ps,labels) #caluclating test loss\n",
    "                ps=torch.exp(log_ps) \n",
    "                top_p,top_class=ps.topk(1,dim=1)\n",
    "                equals=top_class==labels.view(*top_class.shape)\n",
    "                accuracy+=torch.mean(equals.type(torch.FloatTensor))\n",
    "        model.train()\n",
    "        train_losses.append(running_loss/len(train_loader))\n",
    "        test_losses.append(test_loss/len(test_loader))\n",
    "\n",
    "        print(\"Epoch: {}/{}.. \".format(e+1, epochs),\n",
    "              \"Training Loss: {:.3f}.. \".format(running_loss/len(train_loader)),\n",
    "              \"Test Loss: {:.3f}.. \".format(test_loss/len(test_loader)),\n",
    "              \"Test Accuracy: {:.3f}\".format(accuracy/len(test_loader)))"
   ]
  },
  {
   "cell_type": "code",
   "execution_count": 8,
   "metadata": {},
   "outputs": [
    {
     "name": "stdout",
     "output_type": "stream",
     "text": [
      "Epoch: 1/10..  Training Loss: 0.883..  Test Loss: 0.448..  Test Accuracy: 0.876\n",
      "Epoch: 2/10..  Training Loss: 0.390..  Test Loss: 0.361..  Test Accuracy: 0.897\n",
      "Epoch: 3/10..  Training Loss: 0.334..  Test Loss: 0.331..  Test Accuracy: 0.906\n",
      "Epoch: 4/10..  Training Loss: 0.309..  Test Loss: 0.318..  Test Accuracy: 0.909\n",
      "Epoch: 5/10..  Training Loss: 0.292..  Test Loss: 0.302..  Test Accuracy: 0.912\n",
      "Epoch: 6/10..  Training Loss: 0.280..  Test Loss: 0.297..  Test Accuracy: 0.917\n",
      "Epoch: 7/10..  Training Loss: 0.271..  Test Loss: 0.286..  Test Accuracy: 0.919\n",
      "Epoch: 8/10..  Training Loss: 0.263..  Test Loss: 0.281..  Test Accuracy: 0.919\n",
      "Epoch: 9/10..  Training Loss: 0.256..  Test Loss: 0.280..  Test Accuracy: 0.919\n",
      "Epoch: 10/10..  Training Loss: 0.249..  Test Loss: 0.270..  Test Accuracy: 0.922\n"
     ]
    }
   ],
   "source": [
    "optimizer = optim.SGD(model.parameters(), lr=0.04)\n",
    "criterion=nn.NLLLoss()\n",
    "epochs=10\n",
    "train_losses,test_losses=[],[]\n",
    "for e in range(epochs):\n",
    "    running_loss=0\n",
    "    for images,labels in train_loader:\n",
    "        optimizer.zero_grad()\n",
    "        log_ps=model(images)\n",
    "        loss=criterion(log_ps,labels) # predicted,actual.Caluclating Train Loss\n",
    "        loss.backward() #backward propogation\n",
    "        optimizer.step() #optimize weights and bias\n",
    "        running_loss+=loss.item()\n",
    "        \n",
    "    else:\n",
    "        test_loss=0\n",
    "        accuracy=0\n",
    "        \n",
    "        with torch.no_grad():\n",
    "            model.eval()\n",
    "            for images,labels in test_loader:\n",
    "                log_ps=model(images)\n",
    "                test_loss+=criterion(log_ps,labels) #caluclating test loss\n",
    "                ps=torch.exp(log_ps) \n",
    "                top_p,top_class=ps.topk(1,dim=1)\n",
    "                equals=top_class==labels.view(*top_class.shape)\n",
    "                accuracy+=torch.mean(equals.type(torch.FloatTensor))\n",
    "        model.train()\n",
    "        train_losses.append(running_loss/len(train_loader))\n",
    "        test_losses.append(test_loss/len(test_loader))\n",
    "\n",
    "        print(\"Epoch: {}/{}.. \".format(e+1, epochs),\n",
    "              \"Training Loss: {:.3f}.. \".format(running_loss/len(train_loader)),\n",
    "              \"Test Loss: {:.3f}.. \".format(test_loss/len(test_loader)),\n",
    "              \"Test Accuracy: {:.3f}\".format(accuracy/len(test_loader)))   "
   ]
  },
  {
   "cell_type": "markdown",
   "metadata": {},
   "source": [
    "#### SGD with different lr and momentum values"
   ]
  },
  {
   "cell_type": "code",
   "execution_count": 7,
   "metadata": {},
   "outputs": [
    {
     "name": "stdout",
     "output_type": "stream",
     "text": [
      "Epoch: 1/10..  Training Loss: 0.463..  Test Loss: 0.302..  Test Accuracy: 0.913\n",
      "Epoch: 2/10..  Training Loss: 0.290..  Test Loss: 0.286..  Test Accuracy: 0.917\n",
      "Epoch: 3/10..  Training Loss: 0.254..  Test Loss: 0.267..  Test Accuracy: 0.923\n",
      "Epoch: 4/10..  Training Loss: 0.235..  Test Loss: 0.276..  Test Accuracy: 0.919\n",
      "Epoch: 5/10..  Training Loss: 0.221..  Test Loss: 0.266..  Test Accuracy: 0.921\n",
      "Epoch: 6/10..  Training Loss: 0.210..  Test Loss: 0.253..  Test Accuracy: 0.930\n",
      "Epoch: 7/10..  Training Loss: 0.200..  Test Loss: 0.237..  Test Accuracy: 0.932\n",
      "Epoch: 8/10..  Training Loss: 0.194..  Test Loss: 0.240..  Test Accuracy: 0.931\n",
      "Epoch: 9/10..  Training Loss: 0.186..  Test Loss: 0.257..  Test Accuracy: 0.923\n",
      "Epoch: 10/10..  Training Loss: 0.182..  Test Loss: 0.240..  Test Accuracy: 0.931\n"
     ]
    }
   ],
   "source": [
    "optimizer = optim.SGD(model.parameters(), lr=1e-1, momentum=0.6, nesterov=True)\n",
    "criterion=nn.NLLLoss()\n",
    "epochs=10\n",
    "train_losses,test_losses=[],[]\n",
    "for e in range(epochs):\n",
    "    running_loss=0\n",
    "    for images,labels in train_loader:\n",
    "        optimizer.zero_grad()\n",
    "        log_ps=model(images)\n",
    "        loss=criterion(log_ps,labels) # predicted,actual.Caluclating Train Loss\n",
    "        loss.backward() #backward propogation\n",
    "        optimizer.step() #optimize weights and bias\n",
    "        running_loss+=loss.item()\n",
    "        \n",
    "    else:\n",
    "        test_loss=0\n",
    "        accuracy=0\n",
    "        \n",
    "        with torch.no_grad():\n",
    "            model.eval()\n",
    "            for images,labels in test_loader:\n",
    "                log_ps=model(images)\n",
    "                test_loss+=criterion(log_ps,labels) #caluclating test loss\n",
    "                ps=torch.exp(log_ps) \n",
    "                top_p,top_class=ps.topk(1,dim=1)\n",
    "                equals=top_class==labels.view(*top_class.shape)\n",
    "                accuracy+=torch.mean(equals.type(torch.FloatTensor))\n",
    "        model.train()\n",
    "        train_losses.append(running_loss/len(train_loader))\n",
    "        test_losses.append(test_loss/len(test_loader))\n",
    "\n",
    "        print(\"Epoch: {}/{}.. \".format(e+1, epochs),\n",
    "              \"Training Loss: {:.3f}.. \".format(running_loss/len(train_loader)),\n",
    "              \"Test Loss: {:.3f}.. \".format(test_loss/len(test_loader)),\n",
    "              \"Test Accuracy: {:.3f}\".format(accuracy/len(test_loader)))   "
   ]
  },
  {
   "cell_type": "code",
   "execution_count": 8,
   "metadata": {},
   "outputs": [
    {
     "name": "stdout",
     "output_type": "stream",
     "text": [
      "Epoch: 1/10..  Training Loss: 0.429..  Test Loss: 0.315..  Test Accuracy: 0.909\n",
      "Epoch: 2/10..  Training Loss: 0.307..  Test Loss: 0.334..  Test Accuracy: 0.903\n",
      "Epoch: 3/10..  Training Loss: 0.291..  Test Loss: 0.325..  Test Accuracy: 0.908\n",
      "Epoch: 4/10..  Training Loss: 0.279..  Test Loss: 0.353..  Test Accuracy: 0.902\n",
      "Epoch: 5/10..  Training Loss: 0.270..  Test Loss: 0.305..  Test Accuracy: 0.918\n",
      "Epoch: 6/10..  Training Loss: 0.260..  Test Loss: 0.342..  Test Accuracy: 0.914\n",
      "Epoch: 7/10..  Training Loss: 0.251..  Test Loss: 0.300..  Test Accuracy: 0.925\n",
      "Epoch: 8/10..  Training Loss: 0.251..  Test Loss: 0.315..  Test Accuracy: 0.916\n",
      "Epoch: 9/10..  Training Loss: 0.244..  Test Loss: 0.348..  Test Accuracy: 0.912\n",
      "Epoch: 10/10..  Training Loss: 0.246..  Test Loss: 0.308..  Test Accuracy: 0.919\n"
     ]
    }
   ],
   "source": [
    "optimizer = optim.SGD(model.parameters(), lr=1e-1, momentum=0.9, nesterov=True)\n",
    "criterion=nn.NLLLoss()\n",
    "epochs=10\n",
    "train_losses,test_losses=[],[]\n",
    "for e in range(epochs):\n",
    "    running_loss=0\n",
    "    for images,labels in train_loader:\n",
    "        optimizer.zero_grad()\n",
    "        log_ps=model(images)\n",
    "        loss=criterion(log_ps,labels) # predicted,actual.Caluclating Train Loss\n",
    "        loss.backward() #backward propogation\n",
    "        optimizer.step() #optimize weights and bias\n",
    "        running_loss+=loss.item()\n",
    "        \n",
    "    else:\n",
    "        test_loss=0\n",
    "        accuracy=0\n",
    "        \n",
    "        with torch.no_grad():\n",
    "            model.eval()\n",
    "            for images,labels in test_loader:\n",
    "                log_ps=model(images)\n",
    "                test_loss+=criterion(log_ps,labels) #caluclating test loss\n",
    "                ps=torch.exp(log_ps) \n",
    "                top_p,top_class=ps.topk(1,dim=1)\n",
    "                equals=top_class==labels.view(*top_class.shape)\n",
    "                accuracy+=torch.mean(equals.type(torch.FloatTensor))\n",
    "        model.train()\n",
    "        train_losses.append(running_loss/len(train_loader))\n",
    "        test_losses.append(test_loss/len(test_loader))\n",
    "\n",
    "        print(\"Epoch: {}/{}.. \".format(e+1, epochs),\n",
    "              \"Training Loss: {:.3f}.. \".format(running_loss/len(train_loader)),\n",
    "              \"Test Loss: {:.3f}.. \".format(test_loss/len(test_loader)),\n",
    "              \"Test Accuracy: {:.3f}\".format(accuracy/len(test_loader)))   "
   ]
  },
  {
   "cell_type": "code",
   "execution_count": 18,
   "metadata": {},
   "outputs": [
    {
     "name": "stdout",
     "output_type": "stream",
     "text": [
      "Epoch: 1/10..  Training Loss: 0.634..  Test Loss: 0.332..  Test Accuracy: 0.908\n",
      "Epoch: 2/10..  Training Loss: 0.302..  Test Loss: 0.300..  Test Accuracy: 0.913\n",
      "Epoch: 3/10..  Training Loss: 0.273..  Test Loss: 0.277..  Test Accuracy: 0.921\n",
      "Epoch: 4/10..  Training Loss: 0.253..  Test Loss: 0.265..  Test Accuracy: 0.926\n",
      "Epoch: 5/10..  Training Loss: 0.241..  Test Loss: 0.256..  Test Accuracy: 0.927\n",
      "Epoch: 6/10..  Training Loss: 0.228..  Test Loss: 0.256..  Test Accuracy: 0.927\n",
      "Epoch: 7/10..  Training Loss: 0.221..  Test Loss: 0.257..  Test Accuracy: 0.927\n",
      "Epoch: 8/10..  Training Loss: 0.212..  Test Loss: 0.246..  Test Accuracy: 0.930\n",
      "Epoch: 9/10..  Training Loss: 0.206..  Test Loss: 0.240..  Test Accuracy: 0.931\n",
      "Epoch: 10/10..  Training Loss: 0.200..  Test Loss: 0.237..  Test Accuracy: 0.933\n"
     ]
    }
   ],
   "source": [
    "optimizer = optim.SGD(model.parameters(), lr=1e-2, momentum=0.9, nesterov=True)\n",
    "criterion=nn.NLLLoss()\n",
    "epochs=10\n",
    "train_losses,test_losses=[],[]\n",
    "for e in range(epochs):\n",
    "    running_loss=0\n",
    "    for images,labels in train_loader:\n",
    "        optimizer.zero_grad()\n",
    "        log_ps=model(images)\n",
    "        loss=criterion(log_ps,labels) # predicted,actual.Caluclating Train Loss\n",
    "        loss.backward() #backward propogation\n",
    "        optimizer.step() #optimize weights and bias\n",
    "        running_loss+=loss.item()\n",
    "        \n",
    "    else:\n",
    "        test_loss=0\n",
    "        accuracy=0\n",
    "        \n",
    "        with torch.no_grad():\n",
    "            model.eval()\n",
    "            for images,labels in test_loader:\n",
    "                log_ps=model(images)\n",
    "                test_loss+=criterion(log_ps,labels) #caluclating test loss\n",
    "                ps=torch.exp(log_ps) \n",
    "                top_p,top_class=ps.topk(1,dim=1)\n",
    "                equals=top_class==labels.view(*top_class.shape)\n",
    "                accuracy+=torch.mean(equals.type(torch.FloatTensor))\n",
    "        model.train()\n",
    "        train_losses.append(running_loss/len(train_loader))\n",
    "        test_losses.append(test_loss/len(test_loader))\n",
    "\n",
    "        print(\"Epoch: {}/{}.. \".format(e+1, epochs),\n",
    "              \"Training Loss: {:.3f}.. \".format(running_loss/len(train_loader)),\n",
    "              \"Test Loss: {:.3f}.. \".format(test_loss/len(test_loader)),\n",
    "              \"Test Accuracy: {:.3f}\".format(accuracy/len(test_loader)))   "
   ]
  },
  {
   "cell_type": "code",
   "execution_count": 19,
   "metadata": {},
   "outputs": [
    {
     "data": {
      "text/plain": [
       "<matplotlib.legend.Legend at 0x15d972d2eb8>"
      ]
     },
     "execution_count": 19,
     "metadata": {},
     "output_type": "execute_result"
    },
    {
     "data": {
      "image/png": "[encoded data removed]",
      "text/plain": [
       "<Figure size 432x288 with 1 Axes>"
      ]
     },
     "metadata": {
      "needs_background": "light"
     },
     "output_type": "display_data"
    }
   ],
   "source": [
    "import matplotlib.pyplot as plt\n",
    "%matplotlib inline\n",
    "plt.plot(train_losses, label='Training loss')\n",
    "plt.plot(test_losses, label='Validation loss')\n",
    "plt.legend(frameon=False)"
   ]
  },
  {
   "cell_type": "code",
   "execution_count": 10,
   "metadata": {},
   "outputs": [
    {
     "name": "stdout",
     "output_type": "stream",
     "text": [
      "Epoch: 1/5..  Training Loss: 0.640..  Test Loss: 0.344..  Test Accuracy: 0.901\n",
      "Epoch: 2/5..  Training Loss: 0.317..  Test Loss: 0.308..  Test Accuracy: 0.913\n",
      "Epoch: 3/5..  Training Loss: 0.285..  Test Loss: 0.295..  Test Accuracy: 0.915\n",
      "Epoch: 4/5..  Training Loss: 0.264..  Test Loss: 0.286..  Test Accuracy: 0.917\n",
      "Epoch: 5/5..  Training Loss: 0.250..  Test Loss: 0.274..  Test Accuracy: 0.920\n"
     ]
    }
   ],
   "source": [
    "optimizer = optim.SGD(model.parameters(), lr=1e-2, momentum=0.9, nesterov=True)\n",
    "criterion=nn.NLLLoss()\n",
    "epochs=5\n",
    "train_losses,test_losses=[],[]\n",
    "for e in range(epochs):\n",
    "    running_loss=0\n",
    "    for images,labels in train_loader:\n",
    "        optimizer.zero_grad()\n",
    "        log_ps=model(images)\n",
    "        loss=criterion(log_ps,labels) # predicted,actual.Caluclating Train Loss\n",
    "        loss.backward() #backward propogation\n",
    "        optimizer.step() #optimize weights and bias\n",
    "        running_loss+=loss.item()\n",
    "        \n",
    "    else:\n",
    "        test_loss=0\n",
    "        accuracy=0\n",
    "        \n",
    "        with torch.no_grad():\n",
    "            model.eval()\n",
    "            for images,labels in test_loader:\n",
    "                log_ps=model(images)\n",
    "                test_loss+=criterion(log_ps,labels) #caluclating test loss\n",
    "                ps=torch.exp(log_ps) \n",
    "                top_p,top_class=ps.topk(1,dim=1)\n",
    "                equals=top_class==labels.view(*top_class.shape)\n",
    "                accuracy+=torch.mean(equals.type(torch.FloatTensor))\n",
    "        model.train()\n",
    "        train_losses.append(running_loss/len(train_loader))\n",
    "        test_losses.append(test_loss/len(test_loader))\n",
    "\n",
    "        print(\"Epoch: {}/{}.. \".format(e+1, epochs),\n",
    "              \"Training Loss: {:.3f}.. \".format(running_loss/len(train_loader)),\n",
    "              \"Test Loss: {:.3f}.. \".format(test_loss/len(test_loader)),\n",
    "              \"Test Accuracy: {:.3f}\".format(accuracy/len(test_loader)))   "
   ]
  },
  {
   "cell_type": "code",
   "execution_count": 7,
   "metadata": {},
   "outputs": [
    {
     "name": "stdout",
     "output_type": "stream",
     "text": [
      "Epoch: 1/10..  Training Loss: 0.444..  Test Loss: 0.297..  Test Accuracy: 0.916\n",
      "Epoch: 2/10..  Training Loss: 0.273..  Test Loss: 0.291..  Test Accuracy: 0.915\n",
      "Epoch: 3/10..  Training Loss: 0.241..  Test Loss: 0.276..  Test Accuracy: 0.916\n",
      "Epoch: 4/10..  Training Loss: 0.222..  Test Loss: 0.268..  Test Accuracy: 0.920\n",
      "Epoch: 5/10..  Training Loss: 0.210..  Test Loss: 0.234..  Test Accuracy: 0.932\n",
      "Epoch: 6/10..  Training Loss: 0.198..  Test Loss: 0.256..  Test Accuracy: 0.930\n",
      "Epoch: 7/10..  Training Loss: 0.191..  Test Loss: 0.235..  Test Accuracy: 0.935\n",
      "Epoch: 8/10..  Training Loss: 0.184..  Test Loss: 0.232..  Test Accuracy: 0.934\n",
      "Epoch: 9/10..  Training Loss: 0.180..  Test Loss: 0.272..  Test Accuracy: 0.921\n",
      "Epoch: 10/10..  Training Loss: 0.179..  Test Loss: 0.246..  Test Accuracy: 0.931\n"
     ]
    }
   ],
   "source": [
    "optimizer = optim.SGD(model.parameters(), lr=0.04, momentum=0.9, nesterov=True)\n",
    "criterion=nn.NLLLoss()\n",
    "epochs=10\n",
    "train_losses,test_losses=[],[]\n",
    "for e in range(epochs):\n",
    "    running_loss=0\n",
    "    for images,labels in train_loader:\n",
    "        optimizer.zero_grad()\n",
    "        log_ps=model(images)\n",
    "        loss=criterion(log_ps,labels) # predicted,actual.Caluclating Train Loss\n",
    "        loss.backward() #backward propogation\n",
    "        optimizer.step() #optimize weights and bias\n",
    "        running_loss+=loss.item()\n",
    "        \n",
    "    else:\n",
    "        test_loss=0\n",
    "        accuracy=0\n",
    "        \n",
    "        with torch.no_grad():\n",
    "            model.eval()\n",
    "            for images,labels in test_loader:\n",
    "                log_ps=model(images)\n",
    "                test_loss+=criterion(log_ps,labels) #caluclating test loss\n",
    "                ps=torch.exp(log_ps) \n",
    "                top_p,top_class=ps.topk(1,dim=1)\n",
    "                equals=top_class==labels.view(*top_class.shape)\n",
    "                accuracy+=torch.mean(equals.type(torch.FloatTensor))\n",
    "        model.train()\n",
    "        train_losses.append(running_loss/len(train_loader))\n",
    "        test_losses.append(test_loss/len(test_loader))\n",
    "\n",
    "        print(\"Epoch: {}/{}.. \".format(e+1, epochs),\n",
    "              \"Training Loss: {:.3f}.. \".format(running_loss/len(train_loader)),\n",
    "              \"Test Loss: {:.3f}.. \".format(test_loss/len(test_loader)),\n",
    "              \"Test Accuracy: {:.3f}\".format(accuracy/len(test_loader)))   "
   ]
  },
  {
   "cell_type": "markdown",
   "metadata": {},
   "source": [
    "Best accuracy : 93.2,No of parameters 9550"
   ]
  },
  {
   "cell_type": "markdown",
   "metadata": {},
   "source": [
    "# Model 3"
   ]
  },
  {
   "cell_type": "code",
   "execution_count": 6,
   "metadata": {},
   "outputs": [
    {
     "name": "stdout",
     "output_type": "stream",
     "text": [
      "No off parameters 110816\n"
     ]
    }
   ],
   "source": [
    "class Network(nn.Module):\n",
    "    def __init__(self):\n",
    "        super().__init__()\n",
    "        self.fc1 = nn.Linear(784, 128)\n",
    "        self.fc2 = nn.Linear(128, 64)\n",
    "        self.fc3 = nn.Linear(64,32)\n",
    "\n",
    "    def forward(self, x):\n",
    "        # make sure input tensor is flattened\n",
    "        x = x.view(x.shape[0], -1)\n",
    "        \n",
    "        x = F.relu(self.fc1(x))\n",
    "        x = F.relu(self.fc2(x))\n",
    "    \n",
    "\n",
    "        # output so no dropout here\n",
    "        x = F.log_softmax(self.fc3(x), dim=1)\n",
    "\n",
    "        return x\n",
    "        \n",
    "model=Network()\n",
    "print(\"No off parameters\",sum([p.numel() for p in model.parameters()]))\n"
   ]
  },
  {
   "cell_type": "code",
   "execution_count": 7,
   "metadata": {},
   "outputs": [
    {
     "name": "stdout",
     "output_type": "stream",
     "text": [
      "Model's state_dict:\n",
      "fc1.weight \t torch.Size([128, 784])\n",
      "fc1.bias \t torch.Size([128])\n",
      "fc2.weight \t torch.Size([64, 128])\n",
      "fc2.bias \t torch.Size([64])\n",
      "fc3.weight \t torch.Size([32, 64])\n",
      "fc3.bias \t torch.Size([32])\n"
     ]
    }
   ],
   "source": [
    "print(\"Model's state_dict:\")\n",
    "for param_tensor in model.state_dict():\n",
    "    print(param_tensor, \"\\t\", model.state_dict()[param_tensor].size())"
   ]
  },
  {
   "cell_type": "markdown",
   "metadata": {},
   "source": [
    "### Optimizer: Adam"
   ]
  },
  {
   "cell_type": "code",
   "execution_count": 12,
   "metadata": {},
   "outputs": [],
   "source": [
    "optimizer=optim.Adam(model.parameters(),lr=0.04)\n",
    "criterion=nn.NLLLoss()"
   ]
  },
  {
   "cell_type": "code",
   "execution_count": 13,
   "metadata": {},
   "outputs": [
    {
     "name": "stdout",
     "output_type": "stream",
     "text": [
      "Epoch: 1/10..  Training Loss: 0.461..  Test Loss: 0.388..  Test Accuracy: 0.906\n",
      "Epoch: 2/10..  Training Loss: 0.346..  Test Loss: 0.385..  Test Accuracy: 0.891\n",
      "Epoch: 3/10..  Training Loss: 0.326..  Test Loss: 0.354..  Test Accuracy: 0.911\n",
      "Epoch: 4/10..  Training Loss: 0.306..  Test Loss: 0.361..  Test Accuracy: 0.918\n",
      "Epoch: 5/10..  Training Loss: 0.300..  Test Loss: 0.356..  Test Accuracy: 0.915\n",
      "Epoch: 6/10..  Training Loss: 0.283..  Test Loss: 0.415..  Test Accuracy: 0.918\n",
      "Epoch: 7/10..  Training Loss: 0.281..  Test Loss: 0.365..  Test Accuracy: 0.917\n",
      "Epoch: 8/10..  Training Loss: 0.279..  Test Loss: 0.339..  Test Accuracy: 0.928\n",
      "Epoch: 9/10..  Training Loss: 0.292..  Test Loss: 0.375..  Test Accuracy: 0.913\n",
      "Epoch: 10/10..  Training Loss: 0.292..  Test Loss: 0.413..  Test Accuracy: 0.914\n"
     ]
    }
   ],
   "source": [
    "epochs=10\n",
    "train_losses,test_losses=[],[]\n",
    "for e in range(epochs):\n",
    "    running_loss=0\n",
    "    for images,labels in train_loader:\n",
    "        optimizer.zero_grad()\n",
    "        log_ps=model(images)\n",
    "        loss=criterion(log_ps,labels) # predicted,actual.Caluclating Train Loss\n",
    "        loss.backward() #backward propogation\n",
    "        optimizer.step() #optimize weights and bias\n",
    "        running_loss+=loss.item()\n",
    "        \n",
    "    else:\n",
    "        test_loss=0\n",
    "        accuracy=0\n",
    "        \n",
    "        with torch.no_grad():\n",
    "            model.eval()\n",
    "            for images,labels in test_loader:\n",
    "                log_ps=model(images)\n",
    "                test_loss+=criterion(log_ps,labels) #caluclating test loss\n",
    "                ps=torch.exp(log_ps) \n",
    "                top_p,top_class=ps.topk(1,dim=1)\n",
    "                equals=top_class==labels.view(*top_class.shape)\n",
    "                accuracy+=torch.mean(equals.type(torch.FloatTensor))\n",
    "        model.train()\n",
    "        train_losses.append(running_loss/len(train_loader))\n",
    "        test_losses.append(test_loss/len(test_loader))\n",
    "\n",
    "        print(\"Epoch: {}/{}.. \".format(e+1, epochs),\n",
    "              \"Training Loss: {:.3f}.. \".format(running_loss/len(train_loader)),\n",
    "              \"Test Loss: {:.3f}.. \".format(test_loss/len(test_loader)),\n",
    "              \"Test Accuracy: {:.3f}\".format(accuracy/len(test_loader)))    "
   ]
  },
  {
   "cell_type": "code",
   "execution_count": 12,
   "metadata": {},
   "outputs": [],
   "source": [
    "optimizer=optim.Adam(model.parameters(),lr=0.04)\n",
    "criterion=nn.NLLLoss()"
   ]
  },
  {
   "cell_type": "code",
   "execution_count": 10,
   "metadata": {},
   "outputs": [
    {
     "data": {
      "text/plain": [
       "147.7696137651801"
      ]
     },
     "execution_count": 10,
     "metadata": {},
     "output_type": "execute_result"
    }
   ],
   "source": [
    "running_loss"
   ]
  },
  {
   "cell_type": "markdown",
   "metadata": {},
   "source": [
    "### Optimizer : SGD with momemtum"
   ]
  },
  {
   "cell_type": "code",
   "execution_count": 7,
   "metadata": {},
   "outputs": [
    {
     "name": "stdout",
     "output_type": "stream",
     "text": [
      "Epoch: 1/10..  Training Loss: 0.468..  Test Loss: 0.187..  Test Accuracy: 0.946\n",
      "Epoch: 2/10..  Training Loss: 0.143..  Test Loss: 0.137..  Test Accuracy: 0.960\n",
      "Epoch: 3/10..  Training Loss: 0.097..  Test Loss: 0.121..  Test Accuracy: 0.962\n",
      "Epoch: 4/10..  Training Loss: 0.074..  Test Loss: 0.137..  Test Accuracy: 0.960\n",
      "Epoch: 5/10..  Training Loss: 0.056..  Test Loss: 0.113..  Test Accuracy: 0.968\n",
      "Epoch: 6/10..  Training Loss: 0.045..  Test Loss: 0.112..  Test Accuracy: 0.969\n",
      "Epoch: 7/10..  Training Loss: 0.038..  Test Loss: 0.127..  Test Accuracy: 0.968\n",
      "Epoch: 8/10..  Training Loss: 0.030..  Test Loss: 0.131..  Test Accuracy: 0.969\n",
      "Epoch: 9/10..  Training Loss: 0.024..  Test Loss: 0.111..  Test Accuracy: 0.973\n",
      "Epoch: 10/10..  Training Loss: 0.017..  Test Loss: 0.120..  Test Accuracy: 0.973\n"
     ]
    },
    {
     "data": {
      "text/plain": [
       "<matplotlib.legend.Legend at 0x1b181926780>"
      ]
     },
     "execution_count": 7,
     "metadata": {},
     "output_type": "execute_result"
    },
    {
     "data": {
      "image/png": "[encoded data removed]",
      "text/plain": [
       "<Figure size 432x288 with 1 Axes>"
      ]
     },
     "metadata": {
      "needs_background": "light"
     },
     "output_type": "display_data"
    }
   ],
   "source": [
    "optimizer = optim.SGD(model.parameters(), lr=0.04, momentum=0.9)\n",
    "criterion=nn.NLLLoss()\n",
    "epochs=10\n",
    "train_losses,test_losses=[],[]\n",
    "for e in range(epochs):\n",
    "    running_loss=0\n",
    "    for images,labels in train_loader:\n",
    "        optimizer.zero_grad()\n",
    "        log_ps=model(images)\n",
    "        loss=criterion(log_ps,labels) # predicted,actual.Caluclating Train Loss\n",
    "        loss.backward() #backward propogation\n",
    "        optimizer.step() #optimize weights and bias\n",
    "        running_loss+=loss.item()\n",
    "        \n",
    "    else:\n",
    "        test_loss=0\n",
    "        accuracy=0\n",
    "        \n",
    "        with torch.no_grad():\n",
    "            model.eval()\n",
    "            for images,labels in test_loader:\n",
    "                log_ps=model(images)\n",
    "                test_loss+=criterion(log_ps,labels) #caluclating test loss\n",
    "                ps=torch.exp(log_ps) \n",
    "                top_p,top_class=ps.topk(1,dim=1)\n",
    "                equals=top_class==labels.view(*top_class.shape)\n",
    "                accuracy+=torch.mean(equals.type(torch.FloatTensor))\n",
    "        model.train()\n",
    "        train_losses.append(running_loss/len(train_loader))\n",
    "        test_losses.append(test_loss/len(test_loader))\n",
    "\n",
    "        print(\"Epoch: {}/{}.. \".format(e+1, epochs),\n",
    "              \"Training Loss: {:.3f}.. \".format(running_loss/len(train_loader)),\n",
    "              \"Test Loss: {:.3f}.. \".format(test_loss/len(test_loader)),\n",
    "              \"Test Accuracy: {:.3f}\".format(accuracy/len(test_loader)))   \n",
    "import matplotlib.pyplot as plt\n",
    "%matplotlib inline\n",
    "plt.plot(train_losses, label='Training loss')\n",
    "plt.plot(test_losses, label='Validation loss')\n",
    "plt.legend(frameon=False)"
   ]
  },
  {
   "cell_type": "markdown",
   "metadata": {},
   "source": [
    "### SGD without momentum"
   ]
  },
  {
   "cell_type": "code",
   "execution_count": 8,
   "metadata": {},
   "outputs": [
    {
     "name": "stdout",
     "output_type": "stream",
     "text": [
      "Epoch: 1/10..  Training Loss: 1.176..  Test Loss: 0.451..  Test Accuracy: 0.872\n",
      "Epoch: 2/10..  Training Loss: 0.374..  Test Loss: 0.330..  Test Accuracy: 0.905\n",
      "Epoch: 3/10..  Training Loss: 0.301..  Test Loss: 0.288..  Test Accuracy: 0.917\n",
      "Epoch: 4/10..  Training Loss: 0.260..  Test Loss: 0.258..  Test Accuracy: 0.925\n",
      "Epoch: 5/10..  Training Loss: 0.226..  Test Loss: 0.222..  Test Accuracy: 0.933\n",
      "Epoch: 6/10..  Training Loss: 0.199..  Test Loss: 0.213..  Test Accuracy: 0.935\n",
      "Epoch: 7/10..  Training Loss: 0.177..  Test Loss: 0.189..  Test Accuracy: 0.945\n",
      "Epoch: 8/10..  Training Loss: 0.158..  Test Loss: 0.176..  Test Accuracy: 0.948\n",
      "Epoch: 9/10..  Training Loss: 0.143..  Test Loss: 0.164..  Test Accuracy: 0.951\n",
      "Epoch: 10/10..  Training Loss: 0.128..  Test Loss: 0.152..  Test Accuracy: 0.955\n"
     ]
    }
   ],
   "source": [
    "optimizer = optim.SGD(model.parameters(), lr=0.04)\n",
    "criterion=nn.NLLLoss()\n",
    "epochs=10\n",
    "train_losses,test_losses=[],[]\n",
    "for e in range(epochs):\n",
    "    running_loss=0\n",
    "    for images,labels in train_loader:\n",
    "        optimizer.zero_grad()\n",
    "        log_ps=model(images)\n",
    "        loss=criterion(log_ps,labels) # predicted,actual.Caluclating Train Loss\n",
    "        loss.backward() #backward propogation\n",
    "        optimizer.step() #optimize weights and bias\n",
    "        running_loss+=loss.item()\n",
    "        \n",
    "    else:\n",
    "        test_loss=0\n",
    "        accuracy=0\n",
    "        \n",
    "        with torch.no_grad():\n",
    "            model.eval()\n",
    "            for images,labels in test_loader:\n",
    "                log_ps=model(images)\n",
    "                test_loss+=criterion(log_ps,labels) #caluclating test loss\n",
    "                ps=torch.exp(log_ps) \n",
    "                top_p,top_class=ps.topk(1,dim=1)\n",
    "                equals=top_class==labels.view(*top_class.shape)\n",
    "                accuracy+=torch.mean(equals.type(torch.FloatTensor))\n",
    "        model.train()\n",
    "        train_losses.append(running_loss/len(train_loader))\n",
    "        test_losses.append(test_loss/len(test_loader))\n",
    "\n",
    "        print(\"Epoch: {}/{}.. \".format(e+1, epochs),\n",
    "              \"Training Loss: {:.3f}.. \".format(running_loss/len(train_loader)),\n",
    "              \"Test Loss: {:.3f}.. \".format(test_loss/len(test_loader)),\n",
    "              \"Test Accuracy: {:.3f}\".format(accuracy/len(test_loader)))  "
   ]
  },
  {
   "cell_type": "markdown",
   "metadata": {},
   "source": [
    "### SGD with nesterov = true and momentum"
   ]
  },
  {
   "cell_type": "code",
   "execution_count": 8,
   "metadata": {},
   "outputs": [
    {
     "name": "stdout",
     "output_type": "stream",
     "text": [
      "Epoch: 1/10..  Training Loss: 1.945..  Test Loss: 0.832..  Test Accuracy: 0.780\n",
      "Epoch: 2/10..  Training Loss: 0.601..  Test Loss: 0.473..  Test Accuracy: 0.865\n",
      "Epoch: 3/10..  Training Loss: 0.422..  Test Loss: 0.397..  Test Accuracy: 0.881\n",
      "Epoch: 4/10..  Training Loss: 0.363..  Test Loss: 0.357..  Test Accuracy: 0.897\n",
      "Epoch: 5/10..  Training Loss: 0.332..  Test Loss: 0.329..  Test Accuracy: 0.905\n",
      "Epoch: 6/10..  Training Loss: 0.309..  Test Loss: 0.312..  Test Accuracy: 0.909\n",
      "Epoch: 7/10..  Training Loss: 0.291..  Test Loss: 0.301..  Test Accuracy: 0.913\n",
      "Epoch: 8/10..  Training Loss: 0.274..  Test Loss: 0.286..  Test Accuracy: 0.918\n",
      "Epoch: 9/10..  Training Loss: 0.258..  Test Loss: 0.269..  Test Accuracy: 0.924\n",
      "Epoch: 10/10..  Training Loss: 0.243..  Test Loss: 0.263..  Test Accuracy: 0.924\n"
     ]
    }
   ],
   "source": [
    "optimizer = optim.SGD(model.parameters(), lr=1e-2, momentum=0.4, nesterov=True)\n",
    "criterion=nn.NLLLoss()\n",
    "epochs=10\n",
    "train_losses,test_losses=[],[]\n",
    "for e in range(epochs):\n",
    "    running_loss=0\n",
    "    for images,labels in train_loader:\n",
    "        optimizer.zero_grad()\n",
    "        log_ps=model(images)\n",
    "        loss=criterion(log_ps,labels) # predicted,actual.Caluclating Train Loss\n",
    "        loss.backward() #backward propogation\n",
    "        optimizer.step() #optimize weights and bias\n",
    "        running_loss+=loss.item()\n",
    "        \n",
    "    else:\n",
    "        test_loss=0\n",
    "        accuracy=0\n",
    "        \n",
    "        with torch.no_grad():\n",
    "            model.eval()\n",
    "            for images,labels in test_loader:\n",
    "                log_ps=model(images)\n",
    "                test_loss+=criterion(log_ps,labels) #caluclating test loss\n",
    "                ps=torch.exp(log_ps) \n",
    "                top_p,top_class=ps.topk(1,dim=1)\n",
    "                equals=top_class==labels.view(*top_class.shape)\n",
    "                accuracy+=torch.mean(equals.type(torch.FloatTensor))\n",
    "        model.train()\n",
    "        train_losses.append(running_loss/len(train_loader))\n",
    "        test_losses.append(test_loss/len(test_loader))\n",
    "\n",
    "        print(\"Epoch: {}/{}.. \".format(e+1, epochs),\n",
    "              \"Training Loss: {:.3f}.. \".format(running_loss/len(train_loader)),\n",
    "              \"Test Loss: {:.3f}.. \".format(test_loss/len(test_loader)),\n",
    "              \"Test Accuracy: {:.3f}\".format(accuracy/len(test_loader)))  "
   ]
  },
  {
   "cell_type": "code",
   "execution_count": 8,
   "metadata": {},
   "outputs": [
    {
     "name": "stdout",
     "output_type": "stream",
     "text": [
      "Epoch: 1/10..  Training Loss: 0.574..  Test Loss: 0.249..  Test Accuracy: 0.927\n",
      "Epoch: 2/10..  Training Loss: 0.200..  Test Loss: 0.184..  Test Accuracy: 0.943\n",
      "Epoch: 3/10..  Training Loss: 0.134..  Test Loss: 0.155..  Test Accuracy: 0.955\n",
      "Epoch: 4/10..  Training Loss: 0.099..  Test Loss: 0.140..  Test Accuracy: 0.957\n",
      "Epoch: 5/10..  Training Loss: 0.080..  Test Loss: 0.114..  Test Accuracy: 0.967\n",
      "Epoch: 6/10..  Training Loss: 0.066..  Test Loss: 0.122..  Test Accuracy: 0.964\n",
      "Epoch: 7/10..  Training Loss: 0.054..  Test Loss: 0.117..  Test Accuracy: 0.967\n",
      "Epoch: 8/10..  Training Loss: 0.044..  Test Loss: 0.100..  Test Accuracy: 0.972\n",
      "Epoch: 9/10..  Training Loss: 0.036..  Test Loss: 0.102..  Test Accuracy: 0.971\n",
      "Epoch: 10/10..  Training Loss: 0.029..  Test Loss: 0.106..  Test Accuracy: 0.971\n"
     ]
    }
   ],
   "source": [
    "optimizer = optim.SGD(model.parameters(), lr=1e-1, momentum=0.4, nesterov=True)\n",
    "criterion=nn.NLLLoss()\n",
    "epochs=10\n",
    "train_losses,test_losses=[],[]\n",
    "for e in range(epochs):\n",
    "    running_loss=0\n",
    "    for images,labels in train_loader:\n",
    "        optimizer.zero_grad()\n",
    "        log_ps=model(images)\n",
    "        loss=criterion(log_ps,labels) # predicted,actual.Caluclating Train Loss\n",
    "        loss.backward() #backward propogation\n",
    "        optimizer.step() #optimize weights and bias\n",
    "        running_loss+=loss.item()\n",
    "        \n",
    "    else:\n",
    "        test_loss=0\n",
    "        accuracy=0\n",
    "        \n",
    "        with torch.no_grad():\n",
    "            model.eval()\n",
    "            for images,labels in test_loader:\n",
    "                log_ps=model(images)\n",
    "                test_loss+=criterion(log_ps,labels) #caluclating test loss\n",
    "                ps=torch.exp(log_ps) \n",
    "                top_p,top_class=ps.topk(1,dim=1)\n",
    "                equals=top_class==labels.view(*top_class.shape)\n",
    "                accuracy+=torch.mean(equals.type(torch.FloatTensor))\n",
    "        model.train()\n",
    "        train_losses.append(running_loss/len(train_loader))\n",
    "        test_losses.append(test_loss/len(test_loader))\n",
    "\n",
    "        print(\"Epoch: {}/{}.. \".format(e+1, epochs),\n",
    "              \"Training Loss: {:.3f}.. \".format(running_loss/len(train_loader)),\n",
    "              \"Test Loss: {:.3f}.. \".format(test_loss/len(test_loader)),\n",
    "              \"Test Accuracy: {:.3f}\".format(accuracy/len(test_loader)))  "
   ]
  },
  {
   "cell_type": "code",
   "execution_count": 9,
   "metadata": {},
   "outputs": [
    {
     "name": "stdout",
     "output_type": "stream",
     "text": [
      "Our model: \n",
      "\n",
      " Network(\n",
      "  (fc1): Linear(in_features=784, out_features=128, bias=True)\n",
      "  (fc2): Linear(in_features=128, out_features=64, bias=True)\n",
      "  (fc3): Linear(in_features=64, out_features=32, bias=True)\n",
      ") \n",
      "\n",
      "The state dict keys: \n",
      "\n",
      " odict_keys(['fc1.weight', 'fc1.bias', 'fc2.weight', 'fc2.bias', 'fc3.weight', 'fc3.bias'])\n"
     ]
    }
   ],
   "source": [
    "print(\"Our model: \\n\\n\", model, '\\n')\n",
    "print(\"The state dict keys: \\n\\n\", model.state_dict().keys())\n",
    "torch.save(model.state_dict(), 'checkpoint.pth')"
   ]
  },
  {
   "cell_type": "markdown",
   "metadata": {},
   "source": [
    "Observation :\n",
    "Best Accuracy : 97.3,\n",
    "No off parameters 110816"
   ]
  },
  {
   "cell_type": "markdown",
   "metadata": {},
   "source": [
    "#### Model 4"
   ]
  },
  {
   "cell_type": "code",
   "execution_count": 33,
   "metadata": {},
   "outputs": [
    {
     "name": "stdout",
     "output_type": "stream",
     "text": [
      "No off parameters 111146\n"
     ]
    }
   ],
   "source": [
    " class Network(nn.Module):\n",
    "    def __init__(self):\n",
    "        super().__init__()\n",
    "        self.fc1 = nn.Linear(784,128)\n",
    "        self.fc2 = nn.Linear(128,64)\n",
    "        self.fc3 = nn.Linear(64,32)\n",
    "        self.fc4 = nn.Linear(32,10)\n",
    "                           \n",
    "        # Dropout module with 0.2 drop probability\n",
    "        #self.dropout = nn.Dropout(p=0.2)\n",
    "\n",
    "    def forward(self, x):\n",
    "        # make sure input tensor is flattened\n",
    "        x = x.view(x.shape[0], -1)\n",
    "        \n",
    "        x = F.relu(self.fc1(x))\n",
    "        x = F.relu(self.fc2(x))\n",
    "        x = F.relu(self.fc3(x))\n",
    "        \n",
    "\n",
    "        # output so no dropout here\n",
    "        x = F.log_softmax(self.fc4(x), dim=1)\n",
    "\n",
    "        return x\n",
    "        \n",
    "model=Network()\n",
    "print(\"No off parameters\",sum([p.numel() for p in model.parameters()]))"
   ]
  },
  {
   "cell_type": "markdown",
   "metadata": {},
   "source": [
    "### SGD with momentum and nestrov"
   ]
  },
  {
   "cell_type": "code",
   "execution_count": 7,
   "metadata": {},
   "outputs": [
    {
     "name": "stdout",
     "output_type": "stream",
     "text": [
      "Epoch: 0/10..  Training Loss: 0.430..  Test Loss: 0.214..  Test Accuracy: 0.938\n",
      "Epoch: 1/10..  Training Loss: 0.163..  Test Loss: 0.158..  Test Accuracy: 0.956\n",
      "Epoch: 2/10..  Training Loss: 0.120..  Test Loss: 0.149..  Test Accuracy: 0.959\n",
      "Epoch: 3/10..  Training Loss: 0.099..  Test Loss: 0.129..  Test Accuracy: 0.967\n",
      "Epoch: 4/10..  Training Loss: 0.086..  Test Loss: 0.140..  Test Accuracy: 0.965\n",
      "Epoch: 5/10..  Training Loss: 0.073..  Test Loss: 0.130..  Test Accuracy: 0.970\n",
      "Epoch: 6/10..  Training Loss: 0.065..  Test Loss: 0.142..  Test Accuracy: 0.967\n",
      "Epoch: 7/10..  Training Loss: 0.061..  Test Loss: 0.149..  Test Accuracy: 0.967\n",
      "Epoch: 8/10..  Training Loss: 0.053..  Test Loss: 0.172..  Test Accuracy: 0.966\n",
      "Epoch: 9/10..  Training Loss: 0.047..  Test Loss: 0.145..  Test Accuracy: 0.966\n"
     ]
    }
   ],
   "source": [
    "optimizer = optim.SGD(model.parameters(), lr=1e-1, momentum=0.9, nesterov=True)\n",
    "criterion=nn.NLLLoss()\n",
    "epochs=10\n",
    "train_losses,test_losses=[],[]\n",
    "e =50\n",
    "for e in range(epochs):\n",
    "    running_loss=0\n",
    "    for images,labels in train_loader:\n",
    "        optimizer.zero_grad()\n",
    "        log_ps=model(images)\n",
    "        loss=criterion(log_ps,labels) # predicted,actual.Caluclating Train Loss\n",
    "        loss.backward() #backward propogation\n",
    "        optimizer.step() #optimize weights and bias\n",
    "        running_loss+=loss.item()\n",
    "        \n",
    "    else:\n",
    "        test_loss=0\n",
    "        accuracy=0\n",
    "        \n",
    "        with torch.no_grad():\n",
    "            model.eval()\n",
    "            for images,labels in test_loader:\n",
    "                log_ps=model(images)\n",
    "                test_loss+=criterion(log_ps,labels) #caluclating test loss\n",
    "                ps=torch.exp(log_ps) \n",
    "                top_p,top_class=ps.topk(1,dim=1)\n",
    "                equals=top_class==labels.view(*top_class.shape)\n",
    "                accuracy+=torch.mean(equals.type(torch.FloatTensor))\n",
    "        model.train()\n",
    "        train_losses.append(running_loss/len(train_loader))\n",
    "        test_losses.append(test_loss/len(test_loader))\n",
    "\n",
    "        print(\"Epoch: {}/{}.. \".format(e, epochs),\n",
    "              \"Training Loss: {:.3f}.. \".format(running_loss/len(train_loader)),\n",
    "              \"Test Loss: {:.3f}.. \".format(test_loss/len(test_loader)),\n",
    "              \"Test Accuracy: {:.3f}\".format(accuracy/len(test_loader)))  "
   ]
  },
  {
   "cell_type": "code",
   "execution_count": 9,
   "metadata": {},
   "outputs": [
    {
     "name": "stdout",
     "output_type": "stream",
     "text": [
      "Epoch: 0/10..  Training Loss: 1.863..  Test Loss: 0.808..  Test Accuracy: 0.738\n",
      "Epoch: 1/10..  Training Loss: 0.528..  Test Loss: 0.389..  Test Accuracy: 0.888\n",
      "Epoch: 2/10..  Training Loss: 0.345..  Test Loss: 0.342..  Test Accuracy: 0.895\n",
      "Epoch: 3/10..  Training Loss: 0.262..  Test Loss: 0.242..  Test Accuracy: 0.929\n",
      "Epoch: 4/10..  Training Loss: 0.211..  Test Loss: 0.220..  Test Accuracy: 0.934\n",
      "Epoch: 5/10..  Training Loss: 0.176..  Test Loss: 0.180..  Test Accuracy: 0.946\n",
      "Epoch: 6/10..  Training Loss: 0.150..  Test Loss: 0.168..  Test Accuracy: 0.950\n",
      "Epoch: 7/10..  Training Loss: 0.129..  Test Loss: 0.151..  Test Accuracy: 0.957\n",
      "Epoch: 8/10..  Training Loss: 0.112..  Test Loss: 0.146..  Test Accuracy: 0.957\n",
      "Epoch: 9/10..  Training Loss: 0.099..  Test Loss: 0.150..  Test Accuracy: 0.956\n"
     ]
    }
   ],
   "source": [
    "optimizer = optimizer = optim.SGD(model.parameters(), lr=0.04)\n",
    "criterion=nn.NLLLoss()\n",
    "epochs=10\n",
    "train_losses,test_losses=[],[]\n",
    "e =50\n",
    "for e in range(epochs):\n",
    "    running_loss=0\n",
    "    for images,labels in train_loader:\n",
    "        optimizer.zero_grad()\n",
    "        log_ps=model(images)\n",
    "        loss=criterion(log_ps,labels) # predicted,actual.Caluclating Train Loss\n",
    "        loss.backward() #backward propogation\n",
    "        optimizer.step() #optimize weights and bias\n",
    "        running_loss+=loss.item()\n",
    "        \n",
    "    else:\n",
    "        test_loss=0\n",
    "        accuracy=0\n",
    "        \n",
    "        with torch.no_grad():\n",
    "            model.eval()\n",
    "            for images,labels in test_loader:\n",
    "                log_ps=model(images)\n",
    "                test_loss+=criterion(log_ps,labels) #caluclating test loss\n",
    "                ps=torch.exp(log_ps) \n",
    "                top_p,top_class=ps.topk(1,dim=1)\n",
    "                equals=top_class==labels.view(*top_class.shape)\n",
    "                accuracy+=torch.mean(equals.type(torch.FloatTensor))\n",
    "        model.train()\n",
    "        train_losses.append(running_loss/len(train_loader))\n",
    "        test_losses.append(test_loss/len(test_loader))\n",
    "\n",
    "        print(\"Epoch: {}/{}.. \".format(e, epochs),\n",
    "              \"Training Loss: {:.3f}.. \".format(running_loss/len(train_loader)),\n",
    "              \"Test Loss: {:.3f}.. \".format(test_loss/len(test_loader)),\n",
    "              \"Test Accuracy: {:.3f}\".format(accuracy/len(test_loader)))  "
   ]
  },
  {
   "cell_type": "code",
   "execution_count": 11,
   "metadata": {},
   "outputs": [
    {
     "name": "stdout",
     "output_type": "stream",
     "text": [
      "Epoch: 0/10..  Training Loss: 0.177..  Test Loss: 0.152..  Test Accuracy: 0.959\n",
      "Epoch: 1/10..  Training Loss: 0.121..  Test Loss: 0.200..  Test Accuracy: 0.954\n",
      "Epoch: 2/10..  Training Loss: 0.114..  Test Loss: 0.143..  Test Accuracy: 0.964\n",
      "Epoch: 3/10..  Training Loss: 0.112..  Test Loss: 0.166..  Test Accuracy: 0.962\n",
      "Epoch: 4/10..  Training Loss: 0.086..  Test Loss: 0.156..  Test Accuracy: 0.963\n",
      "Epoch: 5/10..  Training Loss: 0.081..  Test Loss: 0.167..  Test Accuracy: 0.966\n",
      "Epoch: 6/10..  Training Loss: 0.084..  Test Loss: 0.198..  Test Accuracy: 0.961\n",
      "Epoch: 7/10..  Training Loss: 0.091..  Test Loss: 0.205..  Test Accuracy: 0.961\n",
      "Epoch: 8/10..  Training Loss: 0.077..  Test Loss: 0.150..  Test Accuracy: 0.967\n",
      "Epoch: 9/10..  Training Loss: 0.058..  Test Loss: 0.183..  Test Accuracy: 0.964\n"
     ]
    }
   ],
   "source": [
    "optimizer=optim.Adam(model.parameters(),lr=0.01)\n",
    "criterion=nn.NLLLoss()\n",
    "epochs=10\n",
    "train_losses,test_losses=[],[]\n",
    "for e in range(epochs):\n",
    "    running_loss=0\n",
    "    for images,labels in train_loader:\n",
    "        optimizer.zero_grad()\n",
    "        log_ps=model(images)\n",
    "        loss=criterion(log_ps,labels) # predicted,actual.Caluclating Train Loss\n",
    "        loss.backward() #backward propogation\n",
    "        optimizer.step() #optimize weights and bias\n",
    "        running_loss+=loss.item()\n",
    "        \n",
    "    else:\n",
    "        test_loss=0\n",
    "        accuracy=0\n",
    "        \n",
    "        with torch.no_grad():\n",
    "            model.eval()\n",
    "            for images,labels in test_loader:\n",
    "                log_ps=model(images)\n",
    "                test_loss+=criterion(log_ps,labels) #caluclating test loss\n",
    "                ps=torch.exp(log_ps) \n",
    "                top_p,top_class=ps.topk(1,dim=1)\n",
    "                equals=top_class==labels.view(*top_class.shape)\n",
    "                accuracy+=torch.mean(equals.type(torch.FloatTensor))\n",
    "        model.train()\n",
    "        train_losses.append(running_loss/len(train_loader))\n",
    "        test_losses.append(test_loss/len(test_loader))\n",
    "\n",
    "        print(\"Epoch: {}/{}.. \".format(e, epochs),\n",
    "              \"Training Loss: {:.3f}.. \".format(running_loss/len(train_loader)),\n",
    "              \"Test Loss: {:.3f}.. \".format(test_loss/len(test_loader)),\n",
    "              \"Test Accuracy: {:.3f}\".format(accuracy/len(test_loader))) "
   ]
  },
  {
   "cell_type": "code",
   "execution_count": 34,
   "metadata": {},
   "outputs": [
    {
     "name": "stdout",
     "output_type": "stream",
     "text": [
      "Epoch: 1/10..  Training Loss: 0.976..  Test Loss: 0.356..  Test Accuracy: 0.893\n",
      "Epoch: 2/10..  Training Loss: 0.271..  Test Loss: 0.226..  Test Accuracy: 0.931\n",
      "Epoch: 3/10..  Training Loss: 0.177..  Test Loss: 0.182..  Test Accuracy: 0.942\n",
      "Epoch: 4/10..  Training Loss: 0.131..  Test Loss: 0.152..  Test Accuracy: 0.953\n",
      "Epoch: 5/10..  Training Loss: 0.106..  Test Loss: 0.135..  Test Accuracy: 0.960\n",
      "Epoch: 6/10..  Training Loss: 0.085..  Test Loss: 0.124..  Test Accuracy: 0.965\n",
      "Epoch: 7/10..  Training Loss: 0.070..  Test Loss: 0.122..  Test Accuracy: 0.965\n",
      "Epoch: 8/10..  Training Loss: 0.058..  Test Loss: 0.120..  Test Accuracy: 0.965\n",
      "Epoch: 9/10..  Training Loss: 0.048..  Test Loss: 0.118..  Test Accuracy: 0.964\n",
      "Epoch: 10/10..  Training Loss: 0.039..  Test Loss: 0.110..  Test Accuracy: 0.969\n"
     ]
    },
    {
     "data": {
      "text/plain": [
       "<matplotlib.legend.Legend at 0x1a61f903b38>"
      ]
     },
     "execution_count": 34,
     "metadata": {},
     "output_type": "execute_result"
    },
    {
     "data": {
      "image/png": "[encoded data removed]",
      "text/plain": [
       "<Figure size 432x288 with 1 Axes>"
      ]
     },
     "metadata": {
      "needs_background": "light"
     },
     "output_type": "display_data"
    }
   ],
   "source": [
    "optimizer = optim.SGD(model.parameters(), lr=1e-2, momentum=0.9, nesterov=True)\n",
    "criterion=nn.NLLLoss()\n",
    "epochs=10\n",
    "train_losses,test_losses=[],[]\n",
    "for e in range(epochs):\n",
    "    running_loss=0\n",
    "    for images,labels in train_loader:\n",
    "        optimizer.zero_grad()\n",
    "        log_ps=model(images)\n",
    "        loss=criterion(log_ps,labels) # predicted,actual.Caluclating Train Loss\n",
    "        loss.backward() #backward propogation\n",
    "        optimizer.step() #optimize weights and bias\n",
    "        running_loss+=loss.item()\n",
    "        \n",
    "    else:\n",
    "        test_loss=0\n",
    "        accuracy=0\n",
    "        \n",
    "        with torch.no_grad():\n",
    "            model.eval()\n",
    "            for images,labels in test_loader:\n",
    "                log_ps=model(images)\n",
    "                test_loss+=criterion(log_ps,labels) #caluclating test loss\n",
    "                ps=torch.exp(log_ps) \n",
    "                top_p,top_class=ps.topk(1,dim=1)\n",
    "                equals=top_class==labels.view(*top_class.shape)\n",
    "                accuracy+=torch.mean(equals.type(torch.FloatTensor))\n",
    "        model.train()\n",
    "        train_losses.append(running_loss/len(train_loader))\n",
    "        test_losses.append(test_loss/len(test_loader))\n",
    "\n",
    "        print(\"Epoch: {}/{}.. \".format(e+1, epochs),\n",
    "              \"Training Loss: {:.3f}.. \".format(running_loss/len(train_loader)),\n",
    "              \"Test Loss: {:.3f}.. \".format(test_loss/len(test_loader)),\n",
    "              \"Test Accuracy: {:.3f}\".format(accuracy/len(test_loader)))  \n",
    "import matplotlib.pyplot as plt\n",
    "%matplotlib inline\n",
    "plt.plot(train_losses, label='Training loss')\n",
    "plt.plot(test_losses, label='Validation loss')\n",
    "plt.legend(frameon=False)"
   ]
  },
  {
   "cell_type": "markdown",
   "metadata": {},
   "source": [
    "Accuracy : 96.9\n",
    "No off parameters 111146"
   ]
  },
  {
   "cell_type": "markdown",
   "metadata": {},
   "source": [
    "### Model 5"
   ]
  },
  {
   "cell_type": "code",
   "execution_count": 41,
   "metadata": {},
   "outputs": [
    {
     "name": "stdout",
     "output_type": "stream",
     "text": [
      "No off parameters 12730\n"
     ]
    }
   ],
   "source": [
    "class Network(nn.Module):\n",
    "    def __init__(self):\n",
    "        super().__init__()\n",
    "        self.fc1 = nn.Linear(784,16)\n",
    "        self.fc2 = nn.Linear(16,10)\n",
    "        \n",
    "                           \n",
    "        # Dropout module with 0.2 drop probability\n",
    "        #self.dropout = nn.Dropout(p=0.2)\n",
    "\n",
    "    def forward(self, x):\n",
    "        # make sure input tensor is flattened\n",
    "        x = x.view(x.shape[0], -1)\n",
    "        \n",
    "        x = F.relu(self.fc1(x))\n",
    "       \n",
    "        \n",
    "\n",
    "        # output so no dropout here\n",
    "        x = F.log_softmax(self.fc2(x), dim=1)\n",
    "\n",
    "        return x\n",
    "        \n",
    "model=Network()\n",
    "print(\"No off parameters\",sum([p.numel() for p in model.parameters()]))"
   ]
  },
  {
   "cell_type": "markdown",
   "metadata": {},
   "source": [
    "### ADAM"
   ]
  },
  {
   "cell_type": "code",
   "execution_count": 9,
   "metadata": {},
   "outputs": [
    {
     "name": "stdout",
     "output_type": "stream",
     "text": [
      "Epoch: 1/10..  Training Loss: 0.362..  Test Loss: 0.294..  Test Accuracy: 0.917\n",
      "Epoch: 2/10..  Training Loss: 0.306..  Test Loss: 0.365..  Test Accuracy: 0.914\n",
      "Epoch: 3/10..  Training Loss: 0.299..  Test Loss: 0.334..  Test Accuracy: 0.916\n",
      "Epoch: 4/10..  Training Loss: 0.306..  Test Loss: 0.343..  Test Accuracy: 0.915\n",
      "Epoch: 5/10..  Training Loss: 0.305..  Test Loss: 0.360..  Test Accuracy: 0.914\n",
      "Epoch: 6/10..  Training Loss: 0.304..  Test Loss: 0.387..  Test Accuracy: 0.911\n",
      "Epoch: 7/10..  Training Loss: 0.300..  Test Loss: 0.370..  Test Accuracy: 0.912\n",
      "Epoch: 8/10..  Training Loss: 0.296..  Test Loss: 0.441..  Test Accuracy: 0.911\n",
      "Epoch: 9/10..  Training Loss: 0.301..  Test Loss: 0.383..  Test Accuracy: 0.918\n",
      "Epoch: 10/10..  Training Loss: 0.285..  Test Loss: 0.442..  Test Accuracy: 0.914\n"
     ]
    }
   ],
   "source": [
    "optimizer=optim.Adam(model.parameters(),lr=0.04)\n",
    "criterion=nn.NLLLoss()\n",
    "epochs=10\n",
    "train_losses,test_losses=[],[]\n",
    "for e in range(epochs):\n",
    "    running_loss=0\n",
    "    for images,labels in train_loader:\n",
    "        optimizer.zero_grad()\n",
    "        log_ps=model(images)\n",
    "        loss=criterion(log_ps,labels) # predicted,actual.Caluclating Train Loss\n",
    "        loss.backward() #backward propogation\n",
    "        optimizer.step() #optimize weights and bias\n",
    "        running_loss+=loss.item()\n",
    "        \n",
    "    else:\n",
    "        test_loss=0\n",
    "        accuracy=0\n",
    "        \n",
    "        with torch.no_grad():\n",
    "            model.eval()\n",
    "            for images,labels in test_loader:\n",
    "                log_ps=model(images)\n",
    "                test_loss+=criterion(log_ps,labels) #caluclating test loss\n",
    "                ps=torch.exp(log_ps) \n",
    "                top_p,top_class=ps.topk(1,dim=1)\n",
    "                equals=top_class==labels.view(*top_class.shape)\n",
    "                accuracy+=torch.mean(equals.type(torch.FloatTensor))\n",
    "        model.train()\n",
    "        train_losses.append(running_loss/len(train_loader))\n",
    "        test_losses.append(test_loss/len(test_loader))\n",
    "\n",
    "        print(\"Epoch: {}/{}.. \".format(e+1, epochs),\n",
    "              \"Training Loss: {:.3f}.. \".format(running_loss/len(train_loader)),\n",
    "              \"Test Loss: {:.3f}.. \".format(test_loss/len(test_loader)),\n",
    "              \"Test Accuracy: {:.3f}\".format(accuracy/len(test_loader)))    "
   ]
  },
  {
   "cell_type": "code",
   "execution_count": 8,
   "metadata": {},
   "outputs": [
    {
     "name": "stdout",
     "output_type": "stream",
     "text": [
      "Epoch: 0/10..  Training Loss: 0.258..  Test Loss: 0.269..  Test Accuracy: 0.924\n",
      "Epoch: 1/10..  Training Loss: 0.215..  Test Loss: 0.273..  Test Accuracy: 0.922\n",
      "Epoch: 2/10..  Training Loss: 0.198..  Test Loss: 0.230..  Test Accuracy: 0.934\n",
      "Epoch: 3/10..  Training Loss: 0.184..  Test Loss: 0.249..  Test Accuracy: 0.928\n",
      "Epoch: 4/10..  Training Loss: 0.168..  Test Loss: 0.227..  Test Accuracy: 0.936\n",
      "Epoch: 5/10..  Training Loss: 0.161..  Test Loss: 0.237..  Test Accuracy: 0.939\n",
      "Epoch: 6/10..  Training Loss: 0.158..  Test Loss: 0.228..  Test Accuracy: 0.942\n",
      "Epoch: 7/10..  Training Loss: 0.156..  Test Loss: 0.245..  Test Accuracy: 0.936\n",
      "Epoch: 8/10..  Training Loss: 0.149..  Test Loss: 0.242..  Test Accuracy: 0.936\n",
      "Epoch: 9/10..  Training Loss: 0.145..  Test Loss: 0.218..  Test Accuracy: 0.945\n"
     ]
    }
   ],
   "source": [
    "optimizer = optim.SGD(model.parameters(), lr=1e-1, momentum=0.9, nesterov=True)\n",
    "criterion=nn.NLLLoss()\n",
    "epochs=10\n",
    "train_losses,test_losses=[],[]\n",
    "e =50\n",
    "for e in range(epochs):\n",
    "    running_loss=0\n",
    "    for images,labels in train_loader:\n",
    "        optimizer.zero_grad()\n",
    "        log_ps=model(images)\n",
    "        loss=criterion(log_ps,labels) # predicted,actual.Caluclating Train Loss\n",
    "        loss.backward() #backward propogation\n",
    "        optimizer.step() #optimize weights and bias\n",
    "        running_loss+=loss.item()\n",
    "        \n",
    "    else:\n",
    "        test_loss=0\n",
    "        accuracy=0\n",
    "        \n",
    "        with torch.no_grad():\n",
    "            model.eval()\n",
    "            for images,labels in test_loader:\n",
    "                log_ps=model(images)\n",
    "                test_loss+=criterion(log_ps,labels) #caluclating test loss\n",
    "                ps=torch.exp(log_ps) \n",
    "                top_p,top_class=ps.topk(1,dim=1)\n",
    "                equals=top_class==labels.view(*top_class.shape)\n",
    "                accuracy+=torch.mean(equals.type(torch.FloatTensor))\n",
    "        model.train()\n",
    "        train_losses.append(running_loss/len(train_loader))\n",
    "        test_losses.append(test_loss/len(test_loader))\n",
    "\n",
    "        print(\"Epoch: {}/{}.. \".format(e, epochs),\n",
    "              \"Training Loss: {:.3f}.. \".format(running_loss/len(train_loader)),\n",
    "              \"Test Loss: {:.3f}.. \".format(test_loss/len(test_loader)),\n",
    "              \"Test Accuracy: {:.3f}\".format(accuracy/len(test_loader)))  "
   ]
  },
  {
   "cell_type": "code",
   "execution_count": 7,
   "metadata": {},
   "outputs": [
    {
     "name": "stdout",
     "output_type": "stream",
     "text": [
      "Epoch: 0/10..  Training Loss: 0.650..  Test Loss: 0.350..  Test Accuracy: 0.900\n",
      "Epoch: 1/10..  Training Loss: 0.308..  Test Loss: 0.307..  Test Accuracy: 0.912\n",
      "Epoch: 2/10..  Training Loss: 0.273..  Test Loss: 0.279..  Test Accuracy: 0.920\n",
      "Epoch: 3/10..  Training Loss: 0.246..  Test Loss: 0.260..  Test Accuracy: 0.928\n",
      "Epoch: 4/10..  Training Loss: 0.225..  Test Loss: 0.249..  Test Accuracy: 0.928\n",
      "Epoch: 5/10..  Training Loss: 0.209..  Test Loss: 0.235..  Test Accuracy: 0.935\n",
      "Epoch: 6/10..  Training Loss: 0.194..  Test Loss: 0.226..  Test Accuracy: 0.935\n",
      "Epoch: 7/10..  Training Loss: 0.185..  Test Loss: 0.225..  Test Accuracy: 0.937\n",
      "Epoch: 8/10..  Training Loss: 0.176..  Test Loss: 0.216..  Test Accuracy: 0.939\n",
      "Epoch: 9/10..  Training Loss: 0.168..  Test Loss: 0.213..  Test Accuracy: 0.940\n"
     ]
    }
   ],
   "source": [
    "optimizer = optim.SGD(model.parameters(), lr=1e-2, momentum=0.9, nesterov=True)\n",
    "criterion=nn.NLLLoss()\n",
    "epochs=10\n",
    "train_losses,test_losses=[],[]\n",
    "e =50\n",
    "for e in range(epochs):\n",
    "    running_loss=0\n",
    "    for images,labels in train_loader:\n",
    "        optimizer.zero_grad()\n",
    "        log_ps=model(images)\n",
    "        loss=criterion(log_ps,labels) # predicted,actual.Caluclating Train Loss\n",
    "        loss.backward() #backward propogation\n",
    "        optimizer.step() #optimize weights and bias\n",
    "        running_loss+=loss.item()\n",
    "        \n",
    "    else:\n",
    "        test_loss=0\n",
    "        accuracy=0\n",
    "        \n",
    "        with torch.no_grad():\n",
    "            model.eval()\n",
    "            for images,labels in test_loader:\n",
    "                log_ps=model(images)\n",
    "                test_loss+=criterion(log_ps,labels) #caluclating test loss\n",
    "                ps=torch.exp(log_ps) \n",
    "                top_p,top_class=ps.topk(1,dim=1)\n",
    "                equals=top_class==labels.view(*top_class.shape)\n",
    "                accuracy+=torch.mean(equals.type(torch.FloatTensor))\n",
    "        model.train()\n",
    "        train_losses.append(running_loss/len(train_loader))\n",
    "        test_losses.append(test_loss/len(test_loader))\n",
    "\n",
    "        print(\"Epoch: {}/{}.. \".format(e, epochs),\n",
    "              \"Training Loss: {:.3f}.. \".format(running_loss/len(train_loader)),\n",
    "              \"Test Loss: {:.3f}.. \".format(test_loss/len(test_loader)),\n",
    "              \"Test Accuracy: {:.3f}\".format(accuracy/len(test_loader)))  "
   ]
  },
  {
   "cell_type": "code",
   "execution_count": 10,
   "metadata": {},
   "outputs": [
    {
     "name": "stdout",
     "output_type": "stream",
     "text": [
      "Epoch: 0/10..  Training Loss: 0.219..  Test Loss: 0.337..  Test Accuracy: 0.926\n",
      "Epoch: 1/10..  Training Loss: 0.196..  Test Loss: 0.324..  Test Accuracy: 0.928\n",
      "Epoch: 2/10..  Training Loss: 0.185..  Test Loss: 0.317..  Test Accuracy: 0.930\n",
      "Epoch: 3/10..  Training Loss: 0.179..  Test Loss: 0.307..  Test Accuracy: 0.933\n",
      "Epoch: 4/10..  Training Loss: 0.173..  Test Loss: 0.306..  Test Accuracy: 0.932\n",
      "Epoch: 5/10..  Training Loss: 0.169..  Test Loss: 0.298..  Test Accuracy: 0.935\n",
      "Epoch: 6/10..  Training Loss: 0.165..  Test Loss: 0.292..  Test Accuracy: 0.935\n",
      "Epoch: 7/10..  Training Loss: 0.163..  Test Loss: 0.289..  Test Accuracy: 0.936\n",
      "Epoch: 8/10..  Training Loss: 0.160..  Test Loss: 0.292..  Test Accuracy: 0.936\n",
      "Epoch: 9/10..  Training Loss: 0.158..  Test Loss: 0.286..  Test Accuracy: 0.937\n"
     ]
    }
   ],
   "source": [
    "optimizer = optimizer = optim.SGD(model.parameters(), lr=0.04)\n",
    "criterion=nn.NLLLoss()\n",
    "epochs=10\n",
    "train_losses,test_losses=[],[]\n",
    "e =50\n",
    "for e in range(epochs):\n",
    "    running_loss=0\n",
    "    for images,labels in train_loader:\n",
    "        optimizer.zero_grad()\n",
    "        log_ps=model(images)\n",
    "        loss=criterion(log_ps,labels) # predicted,actual.Caluclating Train Loss\n",
    "        loss.backward() #backward propogation\n",
    "        optimizer.step() #optimize weights and bias\n",
    "        running_loss+=loss.item()\n",
    "        \n",
    "    else:\n",
    "        test_loss=0\n",
    "        accuracy=0\n",
    "        \n",
    "        with torch.no_grad():\n",
    "            model.eval()\n",
    "            for images,labels in test_loader:\n",
    "                log_ps=model(images)\n",
    "                test_loss+=criterion(log_ps,labels) #caluclating test loss\n",
    "                ps=torch.exp(log_ps) \n",
    "                top_p,top_class=ps.topk(1,dim=1)\n",
    "                equals=top_class==labels.view(*top_class.shape)\n",
    "                accuracy+=torch.mean(equals.type(torch.FloatTensor))\n",
    "        model.train()\n",
    "        train_losses.append(running_loss/len(train_loader))\n",
    "        test_losses.append(test_loss/len(test_loader))\n",
    "\n",
    "        print(\"Epoch: {}/{}.. \".format(e, epochs),\n",
    "              \"Training Loss: {:.3f}.. \".format(running_loss/len(train_loader)),\n",
    "              \"Test Loss: {:.3f}.. \".format(test_loss/len(test_loader)),\n",
    "              \"Test Accuracy: {:.3f}\".format(accuracy/len(test_loader)))  "
   ]
  },
  {
   "cell_type": "code",
   "execution_count": 42,
   "metadata": {},
   "outputs": [
    {
     "name": "stdout",
     "output_type": "stream",
     "text": [
      "Epoch: 0/10..  Training Loss: 0.431..  Test Loss: 0.290..  Test Accuracy: 0.918\n",
      "Epoch: 1/10..  Training Loss: 0.244..  Test Loss: 0.250..  Test Accuracy: 0.930\n",
      "Epoch: 2/10..  Training Loss: 0.206..  Test Loss: 0.235..  Test Accuracy: 0.931\n",
      "Epoch: 3/10..  Training Loss: 0.188..  Test Loss: 0.234..  Test Accuracy: 0.935\n",
      "Epoch: 4/10..  Training Loss: 0.175..  Test Loss: 0.217..  Test Accuracy: 0.938\n",
      "Epoch: 5/10..  Training Loss: 0.166..  Test Loss: 0.220..  Test Accuracy: 0.939\n",
      "Epoch: 6/10..  Training Loss: 0.155..  Test Loss: 0.210..  Test Accuracy: 0.944\n",
      "Epoch: 7/10..  Training Loss: 0.149..  Test Loss: 0.215..  Test Accuracy: 0.939\n",
      "Epoch: 8/10..  Training Loss: 0.145..  Test Loss: 0.209..  Test Accuracy: 0.948\n",
      "Epoch: 9/10..  Training Loss: 0.139..  Test Loss: 0.209..  Test Accuracy: 0.945\n"
     ]
    },
    {
     "data": {
      "text/plain": [
       "<matplotlib.legend.Legend at 0x1a601219e80>"
      ]
     },
     "execution_count": 42,
     "metadata": {},
     "output_type": "execute_result"
    },
    {
     "data": {
      "image/png": "[encoded data removed]",
      "text/plain": [
       "<Figure size 432x288 with 1 Axes>"
      ]
     },
     "metadata": {
      "needs_background": "light"
     },
     "output_type": "display_data"
    }
   ],
   "source": [
    "optimizer = optim.SGD(model.parameters(), lr=0.04, momentum=0.9, nesterov=True)\n",
    "criterion=nn.NLLLoss()\n",
    "epochs=10\n",
    "train_losses,test_losses=[],[]\n",
    "e =50\n",
    "for e in range(epochs):\n",
    "    running_loss=0\n",
    "    for images,labels in train_loader:\n",
    "        optimizer.zero_grad()\n",
    "        log_ps=model(images)\n",
    "        loss=criterion(log_ps,labels) # predicted,actual.Caluclating Train Loss\n",
    "        loss.backward() #backward propogation\n",
    "        optimizer.step() #optimize weights and bias\n",
    "        running_loss+=loss.item()\n",
    "        \n",
    "    else:\n",
    "        test_loss=0\n",
    "        accuracy=0\n",
    "        \n",
    "        with torch.no_grad():\n",
    "            model.eval()\n",
    "            for images,labels in test_loader:\n",
    "                log_ps=model(images)\n",
    "                test_loss+=criterion(log_ps,labels) #caluclating test loss\n",
    "                ps=torch.exp(log_ps) \n",
    "                top_p,top_class=ps.topk(1,dim=1)\n",
    "                equals=top_class==labels.view(*top_class.shape)\n",
    "                accuracy+=torch.mean(equals.type(torch.FloatTensor))\n",
    "        model.train()\n",
    "        train_losses.append(running_loss/len(train_loader))\n",
    "        test_losses.append(test_loss/len(test_loader))\n",
    "\n",
    "        print(\"Epoch: {}/{}.. \".format(e, epochs),\n",
    "              \"Training Loss: {:.3f}.. \".format(running_loss/len(train_loader)),\n",
    "              \"Test Loss: {:.3f}.. \".format(test_loss/len(test_loader)),\n",
    "              \"Test Accuracy: {:.3f}\".format(accuracy/len(test_loader)))  \n",
    "import matplotlib.pyplot as plt\n",
    "%matplotlib inline\n",
    "plt.plot(train_losses, label='Training loss')\n",
    "plt.plot(test_losses, label='Validation loss')\n",
    "plt.legend(frameon=False)"
   ]
  },
  {
   "cell_type": "markdown",
   "metadata": {},
   "source": [
    "Accuracy : 94.5,  \n",
    "parameters:12730"
   ]
  },
  {
   "cell_type": "markdown",
   "metadata": {},
   "source": [
    "## Model 6"
   ]
  },
  {
   "cell_type": "code",
   "execution_count": 49,
   "metadata": {},
   "outputs": [
    {
     "name": "stdout",
     "output_type": "stream",
     "text": [
      "No off parameters 25450\n"
     ]
    }
   ],
   "source": [
    "class Network(nn.Module):\n",
    "    def __init__(self):\n",
    "        super().__init__()\n",
    "        self.fc1 = nn.Linear(784,32)\n",
    "        self.fc2 = nn.Linear(32,10)\n",
    "        \n",
    "                           \n",
    "        # Dropout module with 0.2 drop probability\n",
    "        #self.dropout = nn.Dropout(p=0.2)\n",
    "\n",
    "    def forward(self, x):\n",
    "        # make sure input tensor is flattened\n",
    "        x = x.view(x.shape[0], -1)\n",
    "        \n",
    "        x = F.relu(self.fc1(x))\n",
    "       \n",
    "        \n",
    "\n",
    "        # output so no dropout here\n",
    "        x = F.log_softmax(self.fc2(x), dim=1)\n",
    "\n",
    "        return x\n",
    "        \n",
    "model=Network()\n",
    "print(\"No off parameters\",sum([p.numel() for p in model.parameters()]))"
   ]
  },
  {
   "cell_type": "code",
   "execution_count": 8,
   "metadata": {},
   "outputs": [
    {
     "name": "stdout",
     "output_type": "stream",
     "text": [
      "Epoch: 1/10..  Training Loss: 0.402..  Test Loss: 0.307..  Test Accuracy: 0.915\n",
      "Epoch: 2/10..  Training Loss: 0.314..  Test Loss: 0.342..  Test Accuracy: 0.921\n",
      "Epoch: 3/10..  Training Loss: 0.293..  Test Loss: 0.393..  Test Accuracy: 0.903\n",
      "Epoch: 4/10..  Training Loss: 0.284..  Test Loss: 0.403..  Test Accuracy: 0.912\n",
      "Epoch: 5/10..  Training Loss: 0.285..  Test Loss: 0.423..  Test Accuracy: 0.915\n",
      "Epoch: 6/10..  Training Loss: 0.275..  Test Loss: 0.412..  Test Accuracy: 0.924\n",
      "Epoch: 7/10..  Training Loss: 0.294..  Test Loss: 0.395..  Test Accuracy: 0.923\n",
      "Epoch: 8/10..  Training Loss: 0.273..  Test Loss: 0.389..  Test Accuracy: 0.924\n",
      "Epoch: 9/10..  Training Loss: 0.276..  Test Loss: 0.444..  Test Accuracy: 0.905\n",
      "Epoch: 10/10..  Training Loss: 0.292..  Test Loss: 0.500..  Test Accuracy: 0.893\n"
     ]
    }
   ],
   "source": [
    "optimizer=optim.Adam(model.parameters(),lr=0.04)\n",
    "criterion=nn.NLLLoss()\n",
    "epochs=10\n",
    "train_losses,test_losses=[],[]\n",
    "for e in range(epochs):\n",
    "    running_loss=0\n",
    "    for images,labels in train_loader:\n",
    "        optimizer.zero_grad()\n",
    "        log_ps=model(images)\n",
    "        loss=criterion(log_ps,labels) # predicted,actual.Caluclating Train Loss\n",
    "        loss.backward() #backward propogation\n",
    "        optimizer.step() #optimize weights and bias\n",
    "        running_loss+=loss.item()\n",
    "        \n",
    "    else:\n",
    "        test_loss=0\n",
    "        accuracy=0\n",
    "        \n",
    "        with torch.no_grad():\n",
    "            model.eval()\n",
    "            for images,labels in test_loader:\n",
    "                log_ps=model(images)\n",
    "                test_loss+=criterion(log_ps,labels) #caluclating test loss\n",
    "                ps=torch.exp(log_ps) \n",
    "                top_p,top_class=ps.topk(1,dim=1)\n",
    "                equals=top_class==labels.view(*top_class.shape)\n",
    "                accuracy+=torch.mean(equals.type(torch.FloatTensor))\n",
    "        model.train()\n",
    "        train_losses.append(running_loss/len(train_loader))\n",
    "        test_losses.append(test_loss/len(test_loader))\n",
    "\n",
    "        print(\"Epoch: {}/{}.. \".format(e+1, epochs),\n",
    "              \"Training Loss: {:.3f}.. \".format(running_loss/len(train_loader)),\n",
    "              \"Test Loss: {:.3f}.. \".format(test_loss/len(test_loader)),\n",
    "              \"Test Accuracy: {:.3f}\".format(accuracy/len(test_loader)))    "
   ]
  },
  {
   "cell_type": "code",
   "execution_count": 9,
   "metadata": {},
   "outputs": [
    {
     "name": "stdout",
     "output_type": "stream",
     "text": [
      "Epoch: 1/10..  Training Loss: 0.225..  Test Loss: 0.354..  Test Accuracy: 0.923\n",
      "Epoch: 2/10..  Training Loss: 0.205..  Test Loss: 0.337..  Test Accuracy: 0.926\n",
      "Epoch: 3/10..  Training Loss: 0.194..  Test Loss: 0.327..  Test Accuracy: 0.929\n",
      "Epoch: 4/10..  Training Loss: 0.187..  Test Loss: 0.323..  Test Accuracy: 0.930\n",
      "Epoch: 5/10..  Training Loss: 0.182..  Test Loss: 0.313..  Test Accuracy: 0.933\n",
      "Epoch: 6/10..  Training Loss: 0.177..  Test Loss: 0.308..  Test Accuracy: 0.933\n",
      "Epoch: 7/10..  Training Loss: 0.174..  Test Loss: 0.304..  Test Accuracy: 0.932\n",
      "Epoch: 8/10..  Training Loss: 0.170..  Test Loss: 0.300..  Test Accuracy: 0.934\n",
      "Epoch: 9/10..  Training Loss: 0.168..  Test Loss: 0.296..  Test Accuracy: 0.935\n",
      "Epoch: 10/10..  Training Loss: 0.166..  Test Loss: 0.296..  Test Accuracy: 0.935\n"
     ]
    }
   ],
   "source": [
    "optimizer = optim.SGD(model.parameters(), lr=0.04)\n",
    "criterion=nn.NLLLoss()\n",
    "epochs=10\n",
    "train_losses,test_losses=[],[]\n",
    "for e in range(epochs):\n",
    "    running_loss=0\n",
    "    for images,labels in train_loader:\n",
    "        optimizer.zero_grad()\n",
    "        log_ps=model(images)\n",
    "        loss=criterion(log_ps,labels) # predicted,actual.Caluclating Train Loss\n",
    "        loss.backward() #backward propogation\n",
    "        optimizer.step() #optimize weights and bias\n",
    "        running_loss+=loss.item()\n",
    "        \n",
    "    else:\n",
    "        test_loss=0\n",
    "        accuracy=0\n",
    "        \n",
    "        with torch.no_grad():\n",
    "            model.eval()\n",
    "            for images,labels in test_loader:\n",
    "                log_ps=model(images)\n",
    "                test_loss+=criterion(log_ps,labels) #caluclating test loss\n",
    "                ps=torch.exp(log_ps) \n",
    "                top_p,top_class=ps.topk(1,dim=1)\n",
    "                equals=top_class==labels.view(*top_class.shape)\n",
    "                accuracy+=torch.mean(equals.type(torch.FloatTensor))\n",
    "        model.train()\n",
    "        train_losses.append(running_loss/len(train_loader))\n",
    "        test_losses.append(test_loss/len(test_loader))\n",
    "\n",
    "        print(\"Epoch: {}/{}.. \".format(e+1, epochs),\n",
    "              \"Training Loss: {:.3f}.. \".format(running_loss/len(train_loader)),\n",
    "              \"Test Loss: {:.3f}.. \".format(test_loss/len(test_loader)),\n",
    "              \"Test Accuracy: {:.3f}\".format(accuracy/len(test_loader)))  "
   ]
  },
  {
   "cell_type": "code",
   "execution_count": 8,
   "metadata": {},
   "outputs": [
    {
     "name": "stdout",
     "output_type": "stream",
     "text": [
      "Epoch: 1/10..  Training Loss: 0.591..  Test Loss: 0.335..  Test Accuracy: 0.901\n",
      "Epoch: 2/10..  Training Loss: 0.291..  Test Loss: 0.280..  Test Accuracy: 0.915\n",
      "Epoch: 3/10..  Training Loss: 0.246..  Test Loss: 0.250..  Test Accuracy: 0.926\n",
      "Epoch: 4/10..  Training Loss: 0.213..  Test Loss: 0.216..  Test Accuracy: 0.935\n",
      "Epoch: 5/10..  Training Loss: 0.188..  Test Loss: 0.202..  Test Accuracy: 0.940\n",
      "Epoch: 6/10..  Training Loss: 0.167..  Test Loss: 0.186..  Test Accuracy: 0.943\n",
      "Epoch: 7/10..  Training Loss: 0.151..  Test Loss: 0.170..  Test Accuracy: 0.948\n",
      "Epoch: 8/10..  Training Loss: 0.138..  Test Loss: 0.162..  Test Accuracy: 0.951\n",
      "Epoch: 9/10..  Training Loss: 0.126..  Test Loss: 0.154..  Test Accuracy: 0.952\n",
      "Epoch: 10/10..  Training Loss: 0.117..  Test Loss: 0.148..  Test Accuracy: 0.955\n"
     ]
    }
   ],
   "source": [
    "optimizer = optim.SGD(model.parameters(), lr=1e-2, momentum=0.9, nesterov=True)\n",
    "criterion=nn.NLLLoss()\n",
    "epochs=10\n",
    "train_losses,test_losses=[],[]\n",
    "for e in range(epochs):\n",
    "    running_loss=0\n",
    "    for images,labels in train_loader:\n",
    "        optimizer.zero_grad()\n",
    "        log_ps=model(images)\n",
    "        loss=criterion(log_ps,labels) # predicted,actual.Caluclating Train Loss\n",
    "        loss.backward() #backward propogation\n",
    "        optimizer.step() #optimize weights and bias\n",
    "        running_loss+=loss.item()\n",
    "        \n",
    "    else:\n",
    "        test_loss=0\n",
    "        accuracy=0\n",
    "        \n",
    "        with torch.no_grad():\n",
    "            model.eval()\n",
    "            for images,labels in test_loader:\n",
    "                log_ps=model(images)\n",
    "                test_loss+=criterion(log_ps,labels) #caluclating test loss\n",
    "                ps=torch.exp(log_ps) \n",
    "                top_p,top_class=ps.topk(1,dim=1)\n",
    "                equals=top_class==labels.view(*top_class.shape)\n",
    "                accuracy+=torch.mean(equals.type(torch.FloatTensor))\n",
    "        model.train()\n",
    "        train_losses.append(running_loss/len(train_loader))\n",
    "        test_losses.append(test_loss/len(test_loader))\n",
    "\n",
    "        print(\"Epoch: {}/{}.. \".format(e+1, epochs),\n",
    "              \"Training Loss: {:.3f}.. \".format(running_loss/len(train_loader)),\n",
    "              \"Test Loss: {:.3f}.. \".format(test_loss/len(test_loader)),\n",
    "              \"Test Accuracy: {:.3f}\".format(accuracy/len(test_loader))) "
   ]
  },
  {
   "cell_type": "code",
   "execution_count": 7,
   "metadata": {},
   "outputs": [
    {
     "name": "stdout",
     "output_type": "stream",
     "text": [
      "Epoch: 0/10..  Training Loss: 0.360..  Test Loss: 0.236..  Test Accuracy: 0.926\n",
      "Epoch: 1/10..  Training Loss: 0.189..  Test Loss: 0.202..  Test Accuracy: 0.942\n",
      "Epoch: 2/10..  Training Loss: 0.162..  Test Loss: 0.265..  Test Accuracy: 0.928\n",
      "Epoch: 3/10..  Training Loss: 0.139..  Test Loss: 0.248..  Test Accuracy: 0.931\n",
      "Epoch: 4/10..  Training Loss: 0.126..  Test Loss: 0.192..  Test Accuracy: 0.952\n",
      "Epoch: 5/10..  Training Loss: 0.109..  Test Loss: 0.206..  Test Accuracy: 0.950\n",
      "Epoch: 6/10..  Training Loss: 0.102..  Test Loss: 0.179..  Test Accuracy: 0.956\n",
      "Epoch: 7/10..  Training Loss: 0.095..  Test Loss: 0.230..  Test Accuracy: 0.945\n",
      "Epoch: 8/10..  Training Loss: 0.094..  Test Loss: 0.213..  Test Accuracy: 0.953\n",
      "Epoch: 9/10..  Training Loss: 0.086..  Test Loss: 0.244..  Test Accuracy: 0.944\n"
     ]
    }
   ],
   "source": [
    "optimizer = optim.SGD(model.parameters(), lr=1e-1, momentum=0.9, nesterov=True)\n",
    "criterion=nn.NLLLoss()\n",
    "epochs=10\n",
    "train_losses,test_losses=[],[]\n",
    "\n",
    "for e in range(epochs):\n",
    "    running_loss=0\n",
    "    for images,labels in train_loader:\n",
    "        optimizer.zero_grad()\n",
    "        log_ps=model(images)\n",
    "        loss=criterion(log_ps,labels) # predicted,actual.Caluclating Train Loss\n",
    "        loss.backward() #backward propogation\n",
    "        optimizer.step() #optimize weights and bias\n",
    "        running_loss+=loss.item()\n",
    "        \n",
    "    else:\n",
    "        test_loss=0\n",
    "        accuracy=0\n",
    "        \n",
    "        with torch.no_grad():\n",
    "            model.eval()\n",
    "            for images,labels in test_loader:\n",
    "                log_ps=model(images)\n",
    "                test_loss+=criterion(log_ps,labels) #caluclating test loss\n",
    "                ps=torch.exp(log_ps) \n",
    "                top_p,top_class=ps.topk(1,dim=1)\n",
    "                equals=top_class==labels.view(*top_class.shape)\n",
    "                accuracy+=torch.mean(equals.type(torch.FloatTensor))\n",
    "        model.train()\n",
    "        train_losses.append(running_loss/len(train_loader))\n",
    "        test_losses.append(test_loss/len(test_loader))\n",
    "\n",
    "        print(\"Epoch: {}/{}.. \".format(e, epochs),\n",
    "              \"Training Loss: {:.3f}.. \".format(running_loss/len(train_loader)),\n",
    "              \"Test Loss: {:.3f}.. \".format(test_loss/len(test_loader)),\n",
    "              \"Test Accuracy: {:.3f}\".format(accuracy/len(test_loader))) "
   ]
  },
  {
   "cell_type": "code",
   "execution_count": 50,
   "metadata": {},
   "outputs": [
    {
     "name": "stdout",
     "output_type": "stream",
     "text": [
      "Epoch: 0/10..  Training Loss: 0.409..  Test Loss: 0.252..  Test Accuracy: 0.926\n",
      "Epoch: 1/10..  Training Loss: 0.205..  Test Loss: 0.215..  Test Accuracy: 0.936\n",
      "Epoch: 2/10..  Training Loss: 0.161..  Test Loss: 0.203..  Test Accuracy: 0.939\n",
      "Epoch: 3/10..  Training Loss: 0.133..  Test Loss: 0.205..  Test Accuracy: 0.939\n",
      "Epoch: 4/10..  Training Loss: 0.117..  Test Loss: 0.170..  Test Accuracy: 0.951\n",
      "Epoch: 5/10..  Training Loss: 0.103..  Test Loss: 0.169..  Test Accuracy: 0.955\n",
      "Epoch: 6/10..  Training Loss: 0.094..  Test Loss: 0.147..  Test Accuracy: 0.959\n",
      "Epoch: 7/10..  Training Loss: 0.085..  Test Loss: 0.156..  Test Accuracy: 0.958\n",
      "Epoch: 8/10..  Training Loss: 0.079..  Test Loss: 0.168..  Test Accuracy: 0.955\n",
      "Epoch: 9/10..  Training Loss: 0.073..  Test Loss: 0.169..  Test Accuracy: 0.956\n"
     ]
    },
    {
     "data": {
      "text/plain": [
       "<matplotlib.legend.Legend at 0x1a60128def0>"
      ]
     },
     "execution_count": 50,
     "metadata": {},
     "output_type": "execute_result"
    },
    {
     "data": {
      "image/png": "[encoded data removed]",
      "text/plain": [
       "<Figure size 432x288 with 1 Axes>"
      ]
     },
     "metadata": {
      "needs_background": "light"
     },
     "output_type": "display_data"
    }
   ],
   "source": [
    "optimizer = optim.SGD(model.parameters(), lr=0.04, momentum=0.9, nesterov=True)\n",
    "criterion=nn.NLLLoss()\n",
    "epochs=10\n",
    "train_losses,test_losses=[],[]\n",
    "\n",
    "for e in range(epochs):\n",
    "    running_loss=0\n",
    "    for images,labels in train_loader:\n",
    "        optimizer.zero_grad()\n",
    "        log_ps=model(images)\n",
    "        loss=criterion(log_ps,labels) # predicted,actual.Caluclating Train Loss\n",
    "        loss.backward() #backward propogation\n",
    "        optimizer.step() #optimize weights and bias\n",
    "        running_loss+=loss.item()\n",
    "        \n",
    "    else:\n",
    "        test_loss=0\n",
    "        accuracy=0\n",
    "        \n",
    "        with torch.no_grad():\n",
    "            model.eval()\n",
    "            for images,labels in test_loader:\n",
    "                log_ps=model(images)\n",
    "                test_loss+=criterion(log_ps,labels) #caluclating test loss\n",
    "                ps=torch.exp(log_ps) \n",
    "                top_p,top_class=ps.topk(1,dim=1)\n",
    "                equals=top_class==labels.view(*top_class.shape)\n",
    "                accuracy+=torch.mean(equals.type(torch.FloatTensor))\n",
    "        model.train()\n",
    "        train_losses.append(running_loss/len(train_loader))\n",
    "        test_losses.append(test_loss/len(test_loader))\n",
    "\n",
    "        print(\"Epoch: {}/{}.. \".format(e, epochs),\n",
    "              \"Training Loss: {:.3f}.. \".format(running_loss/len(train_loader)),\n",
    "              \"Test Loss: {:.3f}.. \".format(test_loss/len(test_loader)),\n",
    "              \"Test Accuracy: {:.3f}\".format(accuracy/len(test_loader))) \n",
    "import matplotlib.pyplot as plt\n",
    "%matplotlib inline\n",
    "plt.plot(train_losses, label='Training loss')\n",
    "plt.plot(test_losses, label='Validation loss')\n",
    "plt.legend(frameon=False)"
   ]
  },
  {
   "cell_type": "code",
   "execution_count": null,
   "metadata": {},
   "outputs": [],
   "source": []
  },
  {
   "cell_type": "markdown",
   "metadata": {},
   "source": [
    "Best Accuracy : 95.6 for optim.SGD(model.parameters(), lr=0.04, momentum=0.9, nesterov=True)\n",
    "No off parameters 25450"
   ]
  },
  {
   "cell_type": "markdown",
   "metadata": {},
   "source": [
    "### Model 7"
   ]
  },
  {
   "cell_type": "code",
   "execution_count": 23,
   "metadata": {},
   "outputs": [
    {
     "name": "stdout",
     "output_type": "stream",
     "text": [
      "No off parameters 52650\n"
     ]
    }
   ],
   "source": [
    "class Network(nn.Module):\n",
    "    def __init__(self):\n",
    "        super().__init__()\n",
    "        self.fc1 = nn.Linear(784,64)\n",
    "        self.fc2 = nn.Linear(64,32)\n",
    "        self.fc3 = nn.Linear(32,10)\n",
    "                           \n",
    "        # Dropout module with 0.2 drop probability\n",
    "        #self.dropout = nn.Dropout(p=0.2)\n",
    "\n",
    "    def forward(self, x):\n",
    "        # make sure input tensor is flattened\n",
    "        x = x.view(x.shape[0], -1)\n",
    "        \n",
    "        x = F.relu(self.fc1(x))\n",
    "        x = F.relu(self.fc2(x))\n",
    "       \n",
    "        \n",
    "\n",
    "        # output so no dropout here\n",
    "        x = F.log_softmax(self.fc3(x), dim=1)\n",
    "\n",
    "        return x\n",
    "        \n",
    "model=Network()\n",
    "print(\"No off parameters\",sum([p.numel() for p in model.parameters()]))"
   ]
  },
  {
   "cell_type": "code",
   "execution_count": 11,
   "metadata": {},
   "outputs": [
    {
     "name": "stdout",
     "output_type": "stream",
     "text": [
      "Epoch: 1/10..  Training Loss: 0.458..  Test Loss: 0.406..  Test Accuracy: 0.895\n",
      "Epoch: 2/10..  Training Loss: 0.329..  Test Loss: 0.450..  Test Accuracy: 0.883\n",
      "Epoch: 3/10..  Training Loss: 0.317..  Test Loss: 0.369..  Test Accuracy: 0.917\n",
      "Epoch: 4/10..  Training Loss: 0.297..  Test Loss: 0.403..  Test Accuracy: 0.905\n",
      "Epoch: 5/10..  Training Loss: 0.283..  Test Loss: 0.348..  Test Accuracy: 0.921\n",
      "Epoch: 6/10..  Training Loss: 0.293..  Test Loss: 0.381..  Test Accuracy: 0.924\n",
      "Epoch: 7/10..  Training Loss: 0.287..  Test Loss: 0.372..  Test Accuracy: 0.921\n",
      "Epoch: 8/10..  Training Loss: 0.260..  Test Loss: 0.364..  Test Accuracy: 0.922\n",
      "Epoch: 9/10..  Training Loss: 0.263..  Test Loss: 0.460..  Test Accuracy: 0.908\n",
      "Epoch: 10/10..  Training Loss: 0.268..  Test Loss: 0.380..  Test Accuracy: 0.917\n"
     ]
    }
   ],
   "source": [
    "optimizer=optim.Adam(model.parameters(),lr=0.04)\n",
    "criterion=nn.NLLLoss()\n",
    "epochs=10\n",
    "train_losses,test_losses=[],[]\n",
    "for e in range(epochs):\n",
    "    running_loss=0\n",
    "    for images,labels in train_loader:\n",
    "        optimizer.zero_grad()\n",
    "        log_ps=model(images)\n",
    "        loss=criterion(log_ps,labels) # predicted,actual.Caluclating Train Loss\n",
    "        loss.backward() #backward propogation\n",
    "        optimizer.step() #optimize weights and bias\n",
    "        running_loss+=loss.item()\n",
    "        \n",
    "    else:\n",
    "        test_loss=0\n",
    "        accuracy=0\n",
    "        \n",
    "        with torch.no_grad():\n",
    "            model.eval()\n",
    "            for images,labels in test_loader:\n",
    "                log_ps=model(images)\n",
    "                test_loss+=criterion(log_ps,labels) #caluclating test loss\n",
    "                ps=torch.exp(log_ps) \n",
    "                top_p,top_class=ps.topk(1,dim=1)\n",
    "                equals=top_class==labels.view(*top_class.shape)\n",
    "                accuracy+=torch.mean(equals.type(torch.FloatTensor))\n",
    "        model.train()\n",
    "        train_losses.append(running_loss/len(train_loader))\n",
    "        test_losses.append(test_loss/len(test_loader))\n",
    "\n",
    "        print(\"Epoch: {}/{}.. \".format(e+1, epochs),\n",
    "              \"Training Loss: {:.3f}.. \".format(running_loss/len(train_loader)),\n",
    "              \"Test Loss: {:.3f}.. \".format(test_loss/len(test_loader)),\n",
    "              \"Test Accuracy: {:.3f}\".format(accuracy/len(test_loader)))    "
   ]
  },
  {
   "cell_type": "code",
   "execution_count": 12,
   "metadata": {},
   "outputs": [
    {
     "name": "stdout",
     "output_type": "stream",
     "text": [
      "Epoch: 0/10..  Training Loss: 0.441..  Test Loss: 1.054..  Test Accuracy: 0.668\n",
      "Epoch: 1/10..  Training Loss: 0.652..  Test Loss: 0.764..  Test Accuracy: 0.749\n",
      "Epoch: 2/10..  Training Loss: 0.666..  Test Loss: 1.629..  Test Accuracy: 0.634\n",
      "Epoch: 3/10..  Training Loss: 1.673..  Test Loss: 2.159..  Test Accuracy: 0.419\n",
      "Epoch: 4/10..  Training Loss: 1.279..  Test Loss: 1.805..  Test Accuracy: 0.533\n",
      "Epoch: 5/10..  Training Loss: 1.327..  Test Loss: 1.818..  Test Accuracy: 0.494\n",
      "Epoch: 6/10..  Training Loss: 1.212..  Test Loss: 1.449..  Test Accuracy: 0.519\n",
      "Epoch: 7/10..  Training Loss: 1.028..  Test Loss: 1.347..  Test Accuracy: 0.605\n",
      "Epoch: 8/10..  Training Loss: 1.086..  Test Loss: 1.455..  Test Accuracy: 0.554\n",
      "Epoch: 9/10..  Training Loss: 1.118..  Test Loss: 1.363..  Test Accuracy: 0.559\n"
     ]
    }
   ],
   "source": [
    "optimizer = optim.SGD(model.parameters(), lr=1e-1, momentum=0.9, nesterov=True)\n",
    "criterion=nn.NLLLoss()\n",
    "epochs=10\n",
    "train_losses,test_losses=[],[]\n",
    "\n",
    "for e in range(epochs):\n",
    "    running_loss=0\n",
    "    for images,labels in train_loader:\n",
    "        optimizer.zero_grad()\n",
    "        log_ps=model(images)\n",
    "        loss=criterion(log_ps,labels) # predicted,actual.Caluclating Train Loss\n",
    "        loss.backward() #backward propogation\n",
    "        optimizer.step() #optimize weights and bias\n",
    "        running_loss+=loss.item()\n",
    "        \n",
    "    else:\n",
    "        test_loss=0\n",
    "        accuracy=0\n",
    "        \n",
    "        with torch.no_grad():\n",
    "            model.eval()\n",
    "            for images,labels in test_loader:\n",
    "                log_ps=model(images)\n",
    "                test_loss+=criterion(log_ps,labels) #caluclating test loss\n",
    "                ps=torch.exp(log_ps) \n",
    "                top_p,top_class=ps.topk(1,dim=1)\n",
    "                equals=top_class==labels.view(*top_class.shape)\n",
    "                accuracy+=torch.mean(equals.type(torch.FloatTensor))\n",
    "        model.train()\n",
    "        train_losses.append(running_loss/len(train_loader))\n",
    "        test_losses.append(test_loss/len(test_loader))\n",
    "\n",
    "        print(\"Epoch: {}/{}.. \".format(e, epochs),\n",
    "              \"Training Loss: {:.3f}.. \".format(running_loss/len(train_loader)),\n",
    "              \"Test Loss: {:.3f}.. \".format(test_loss/len(test_loader)),\n",
    "              \"Test Accuracy: {:.3f}\".format(accuracy/len(test_loader))) "
   ]
  },
  {
   "cell_type": "code",
   "execution_count": 24,
   "metadata": {},
   "outputs": [
    {
     "name": "stdout",
     "output_type": "stream",
     "text": [
      "Epoch: 0/10..  Training Loss: 0.770..  Test Loss: 0.342..  Test Accuracy: 0.900\n",
      "Epoch: 1/10..  Training Loss: 0.281..  Test Loss: 0.274..  Test Accuracy: 0.917\n",
      "Epoch: 2/10..  Training Loss: 0.209..  Test Loss: 0.217..  Test Accuracy: 0.935\n",
      "Epoch: 3/10..  Training Loss: 0.165..  Test Loss: 0.183..  Test Accuracy: 0.949\n",
      "Epoch: 4/10..  Training Loss: 0.135..  Test Loss: 0.169..  Test Accuracy: 0.949\n",
      "Epoch: 5/10..  Training Loss: 0.115..  Test Loss: 0.152..  Test Accuracy: 0.956\n",
      "Epoch: 6/10..  Training Loss: 0.097..  Test Loss: 0.142..  Test Accuracy: 0.957\n",
      "Epoch: 7/10..  Training Loss: 0.085..  Test Loss: 0.127..  Test Accuracy: 0.962\n",
      "Epoch: 8/10..  Training Loss: 0.073..  Test Loss: 0.126..  Test Accuracy: 0.965\n",
      "Epoch: 9/10..  Training Loss: 0.065..  Test Loss: 0.130..  Test Accuracy: 0.962\n"
     ]
    }
   ],
   "source": [
    "optimizer = optim.SGD(model.parameters(), lr=1e-2, momentum=0.9, nesterov=True)\n",
    "criterion=nn.NLLLoss()\n",
    "epochs=10\n",
    "train_losses,test_losses=[],[]\n",
    "\n",
    "for e in range(epochs):\n",
    "    running_loss=0\n",
    "    for images,labels in train_loader:\n",
    "        optimizer.zero_grad()\n",
    "        log_ps=model(images)\n",
    "        loss=criterion(log_ps,labels) # predicted,actual.Caluclating Train Loss\n",
    "        loss.backward() #backward propogation\n",
    "        optimizer.step() #optimize weights and bias\n",
    "        running_loss+=loss.item()\n",
    "        \n",
    "    else:\n",
    "        test_loss=0\n",
    "        accuracy=0\n",
    "        \n",
    "        with torch.no_grad():\n",
    "            model.eval()\n",
    "            for images,labels in test_loader:\n",
    "                log_ps=model(images)\n",
    "                test_loss+=criterion(log_ps,labels) #caluclating test loss\n",
    "                ps=torch.exp(log_ps) \n",
    "                top_p,top_class=ps.topk(1,dim=1)\n",
    "                equals=top_class==labels.view(*top_class.shape)\n",
    "                accuracy+=torch.mean(equals.type(torch.FloatTensor))\n",
    "        model.train()\n",
    "        train_losses.append(running_loss/len(train_loader))\n",
    "        test_losses.append(test_loss/len(test_loader))\n",
    "\n",
    "        print(\"Epoch: {}/{}.. \".format(e, epochs),\n",
    "              \"Training Loss: {:.3f}.. \".format(running_loss/len(train_loader)),\n",
    "              \"Test Loss: {:.3f}.. \".format(test_loss/len(test_loader)),\n",
    "              \"Test Accuracy: {:.3f}\".format(accuracy/len(test_loader))) "
   ]
  },
  {
   "cell_type": "code",
   "execution_count": 25,
   "metadata": {},
   "outputs": [
    {
     "data": {
      "text/plain": [
       "<matplotlib.legend.Legend at 0x1a61f73fc18>"
      ]
     },
     "execution_count": 25,
     "metadata": {},
     "output_type": "execute_result"
    },
    {
     "data": {
      "image/png": "[encoded data removed]",
      "text/plain": [
       "<Figure size 432x288 with 1 Axes>"
      ]
     },
     "metadata": {
      "needs_background": "light"
     },
     "output_type": "display_data"
    }
   ],
   "source": [
    "import matplotlib.pyplot as plt\n",
    "%matplotlib inline\n",
    "plt.plot(train_losses, label='Training loss')\n",
    "plt.plot(test_losses, label='Validation loss')\n",
    "plt.legend(frameon=False)"
   ]
  },
  {
   "cell_type": "code",
   "execution_count": 8,
   "metadata": {},
   "outputs": [
    {
     "name": "stdout",
     "output_type": "stream",
     "text": [
      "Epoch: 0/5..  Training Loss: 0.768..  Test Loss: 0.323..  Test Accuracy: 0.904\n",
      "Epoch: 1/5..  Training Loss: 0.274..  Test Loss: 0.248..  Test Accuracy: 0.927\n",
      "Epoch: 2/5..  Training Loss: 0.202..  Test Loss: 0.210..  Test Accuracy: 0.939\n",
      "Epoch: 3/5..  Training Loss: 0.158..  Test Loss: 0.174..  Test Accuracy: 0.949\n",
      "Epoch: 4/5..  Training Loss: 0.131..  Test Loss: 0.159..  Test Accuracy: 0.953\n"
     ]
    }
   ],
   "source": [
    "optimizer = optim.SGD(model.parameters(), lr=1e-2, momentum=0.9, nesterov=True)\n",
    "criterion=nn.NLLLoss()\n",
    "epochs=5\n",
    "train_losses,test_losses=[],[]\n",
    "\n",
    "for e in range(epochs):\n",
    "    running_loss=0\n",
    "    for images,labels in train_loader:\n",
    "        optimizer.zero_grad()\n",
    "        log_ps=model(images)\n",
    "        loss=criterion(log_ps,labels) # predicted,actual.Caluclating Train Loss\n",
    "        loss.backward() #backward propogation\n",
    "        optimizer.step() #optimize weights and bias\n",
    "        running_loss+=loss.item()\n",
    "        \n",
    "    else:\n",
    "        test_loss=0\n",
    "        accuracy=0\n",
    "        \n",
    "        with torch.no_grad():\n",
    "            model.eval()\n",
    "            for images,labels in test_loader:\n",
    "                log_ps=model(images)\n",
    "                test_loss+=criterion(log_ps,labels) #caluclating test loss\n",
    "                ps=torch.exp(log_ps) \n",
    "                top_p,top_class=ps.topk(1,dim=1)\n",
    "                equals=top_class==labels.view(*top_class.shape)\n",
    "                accuracy+=torch.mean(equals.type(torch.FloatTensor))\n",
    "        model.train()\n",
    "        train_losses.append(running_loss/len(train_loader))\n",
    "        test_losses.append(test_loss/len(test_loader))\n",
    "\n",
    "        print(\"Epoch: {}/{}.. \".format(e, epochs),\n",
    "              \"Training Loss: {:.3f}.. \".format(running_loss/len(train_loader)),\n",
    "              \"Test Loss: {:.3f}.. \".format(test_loss/len(test_loader)),\n",
    "              \"Test Accuracy: {:.3f}\".format(accuracy/len(test_loader))) "
   ]
  },
  {
   "cell_type": "code",
   "execution_count": 8,
   "metadata": {},
   "outputs": [
    {
     "name": "stdout",
     "output_type": "stream",
     "text": [
      "Epoch: 0/10..  Training Loss: 1.160..  Test Loss: 0.449..  Test Accuracy: 0.871\n",
      "Epoch: 1/10..  Training Loss: 0.376..  Test Loss: 0.333..  Test Accuracy: 0.904\n",
      "Epoch: 2/10..  Training Loss: 0.303..  Test Loss: 0.290..  Test Accuracy: 0.915\n",
      "Epoch: 3/10..  Training Loss: 0.262..  Test Loss: 0.261..  Test Accuracy: 0.924\n",
      "Epoch: 4/10..  Training Loss: 0.231..  Test Loss: 0.246..  Test Accuracy: 0.927\n",
      "Epoch: 5/10..  Training Loss: 0.202..  Test Loss: 0.219..  Test Accuracy: 0.935\n",
      "Epoch: 6/10..  Training Loss: 0.180..  Test Loss: 0.199..  Test Accuracy: 0.943\n",
      "Epoch: 7/10..  Training Loss: 0.160..  Test Loss: 0.182..  Test Accuracy: 0.947\n",
      "Epoch: 8/10..  Training Loss: 0.145..  Test Loss: 0.175..  Test Accuracy: 0.950\n",
      "Epoch: 9/10..  Training Loss: 0.133..  Test Loss: 0.170..  Test Accuracy: 0.951\n"
     ]
    }
   ],
   "source": [
    "optimizer = optim.SGD(model.parameters(), lr=0.04)\n",
    "criterion=nn.NLLLoss()\n",
    "epochs=10\n",
    "train_losses,test_losses=[],[]\n",
    "\n",
    "for e in range(epochs):\n",
    "    running_loss=0\n",
    "    for images,labels in train_loader:\n",
    "        optimizer.zero_grad()\n",
    "        log_ps=model(images)\n",
    "        loss=criterion(log_ps,labels) # predicted,actual.Caluclating Train Loss\n",
    "        loss.backward() #backward propogation\n",
    "        optimizer.step() #optimize weights and bias\n",
    "        running_loss+=loss.item()\n",
    "        \n",
    "    else:\n",
    "        test_loss=0\n",
    "        accuracy=0\n",
    "        \n",
    "        with torch.no_grad():\n",
    "            model.eval()\n",
    "            for images,labels in test_loader:\n",
    "                log_ps=model(images)\n",
    "                test_loss+=criterion(log_ps,labels) #caluclating test loss\n",
    "                ps=torch.exp(log_ps) \n",
    "                top_p,top_class=ps.topk(1,dim=1)\n",
    "                equals=top_class==labels.view(*top_class.shape)\n",
    "                accuracy+=torch.mean(equals.type(torch.FloatTensor))\n",
    "        model.train()\n",
    "        train_losses.append(running_loss/len(train_loader))\n",
    "        test_losses.append(test_loss/len(test_loader))\n",
    "\n",
    "        print(\"Epoch: {}/{}.. \".format(e, epochs),\n",
    "              \"Training Loss: {:.3f}.. \".format(running_loss/len(train_loader)),\n",
    "              \"Test Loss: {:.3f}.. \".format(test_loss/len(test_loader)),\n",
    "              \"Test Accuracy: {:.3f}\".format(accuracy/len(test_loader))) "
   ]
  },
  {
   "cell_type": "markdown",
   "metadata": {},
   "source": [
    "Best Accuracy : 97 , no of parameters = 52650"
   ]
  },
  {
   "cell_type": "markdown",
   "metadata": {},
   "source": [
    "## Observations:"
   ]
  },
  {
   "cell_type": "markdown",
   "metadata": {},
   "source": [
    "#### 1. Least no of parameters :9550 , Accuracy :93.2%"
   ]
  },
  {
   "cell_type": "markdown",
   "metadata": {},
   "source": [
    "#### 2. Max Accuracy : 97.3%, Parameters: 110816"
   ]
  },
  {
   "cell_type": "markdown",
   "metadata": {},
   "source": [
    "#### 3. Max Parameters: 111146, Accuracy :0.96"
   ]
  }
 ],
 "metadata": {
  "kernelspec": {
   "display_name": "Python 3",
   "language": "python",
   "name": "python3"
  },
  "language_info": {
   "codemirror_mode": {
    "name": "ipython",
    "version": 3
   },
   "file_extension": ".py",
   "mimetype": "text/x-python",
   "name": "python",
   "nbconvert_exporter": "python",
   "pygments_lexer": "ipython3",
   "version": "3.7.3"
  }
 },
 "nbformat": 4,
 "nbformat_minor": 2
}
